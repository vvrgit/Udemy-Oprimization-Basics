{
  "nbformat": 4,
  "nbformat_minor": 0,
  "metadata": {
    "colab": {
      "provenance": [],
      "authorship_tag": "ABX9TyNIYAbpkh1qMgW4mK+Caqxt",
      "include_colab_link": true
    },
    "kernelspec": {
      "name": "python3",
      "display_name": "Python 3"
    },
    "language_info": {
      "name": "python"
    }
  },
  "cells": [
    {
      "cell_type": "markdown",
      "metadata": {
        "id": "view-in-github",
        "colab_type": "text"
      },
      "source": [
        "<a href=\"https://colab.research.google.com/github/vvrgit/Udemy-Oprimization-Basics/blob/main/MBGD_CodingExercise.ipynb\" target=\"_parent\"><img src=\"https://colab.research.google.com/assets/colab-badge.svg\" alt=\"Open In Colab\"/></a>"
      ]
    },
    {
      "cell_type": "code",
      "execution_count": 12,
      "metadata": {
        "id": "tqOQHKJEu1Zb"
      },
      "outputs": [],
      "source": [
        "import pandas as pd\n",
        "import numpy as np\n",
        "import random\n",
        "#Read Data\n",
        "data = pd.DataFrame({'X': [0.1, 0.2, 0.3, 0.4, 0.5, 0.6, 0.7, 0.8, 0.9], 'Y': [3.2, 3.4, 3.6, 3.8, 4.0, 4.2, 4.4, 4.6, 4.8]})\n",
        "\n",
        "#Data Split\n",
        "from sklearn.model_selection import train_test_split\n",
        "X_train, X_test, y_train, y_test = train_test_split(data.X, data.Y, test_size=0.1, random_state=42)\n",
        "\n",
        "#Initialization\n",
        "eta=0.1\n",
        "epochs=1000\n",
        "m=random.uniform(-1,1)\n",
        "c=random.uniform(-1,1)\n",
        "num_batches=2\n",
        "\n",
        "\n",
        "#Split training data in batches\n",
        "X_train_batches = np.array_split(X_train, num_batches)\n",
        "y_train_batches = np.array_split(y_train, num_batches)\n",
        "bs=X_train_batches[0].shape[0]\n",
        "\n",
        "\n",
        "\n",
        "#MBGD Algorithm\n",
        "for iter in range(epochs):\n",
        "  for batch in range(num_batches):\n",
        "    Gm=0\n",
        "    Gc=0\n",
        "    for sample in range(bs):\n",
        "      Gm=Gm+(y_train_batches[batch].iloc[sample]-m*X_train_batches[batch].iloc[sample]-c)*X_train_batches[batch].iloc[sample]\n",
        "      Gc=Gc+(y_train_batches[batch].iloc[sample]-m*X_train_batches[batch].iloc[sample]-c)\n",
        "    gm=-Gm/bs\n",
        "    gc=-Gc/bs\n",
        "    delm=-eta*gm\n",
        "    delc=-eta*gc\n",
        "    m=m+delm\n",
        "    c=c+delc\n",
        "m=round(m)\n",
        "c=round(c)"
      ]
    }
  ]
}