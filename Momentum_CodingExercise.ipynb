{
  "nbformat": 4,
  "nbformat_minor": 0,
  "metadata": {
    "colab": {
      "provenance": [],
      "authorship_tag": "ABX9TyNMU01E64fepcE0ifE2XcFe",
      "include_colab_link": true
    },
    "kernelspec": {
      "name": "python3",
      "display_name": "Python 3"
    },
    "language_info": {
      "name": "python"
    }
  },
  "cells": [
    {
      "cell_type": "markdown",
      "metadata": {
        "id": "view-in-github",
        "colab_type": "text"
      },
      "source": [
        "<a href=\"https://colab.research.google.com/github/vvrgit/Udemy-Oprimization-Basics/blob/main/Momentum_CodingExercise.ipynb\" target=\"_parent\"><img src=\"https://colab.research.google.com/assets/colab-badge.svg\" alt=\"Open In Colab\"/></a>"
      ]
    },
    {
      "cell_type": "code",
      "execution_count": 1,
      "metadata": {
        "id": "tqOQHKJEu1Zb",
        "colab": {
          "base_uri": "https://localhost:8080/"
        },
        "outputId": "ad24048d-0d85-4eb2-b6e6-4ce59d70585e"
      },
      "outputs": [
        {
          "output_type": "stream",
          "name": "stdout",
          "text": [
            "m= 2\n",
            "c= 3\n",
            "Train_MSE= 0\n",
            "Test_MSE= 0\n"
          ]
        }
      ],
      "source": [
        "import pandas as pd\n",
        "import random\n",
        "#Read Data\n",
        "data = pd.DataFrame({'X': [0.2, 0.4, 0.6, 0.8], 'Y': [3.4, 3.8, 4.2, 4.6]})\n",
        "\n",
        "#Data Split\n",
        "from sklearn.model_selection import train_test_split\n",
        "X_train, X_test, y_train, y_test = train_test_split(data.X, data.Y, test_size=0.2, random_state=42)\n",
        "\n",
        "#Initialization\n",
        "eta=0.1\n",
        "epochs=1000\n",
        "m=random.uniform(-1,1)\n",
        "c=random.uniform(-1,1)\n",
        "Ns=X_train.shape[0]\n",
        "gama=0.9\n",
        "vm=0\n",
        "vc=0\n",
        "\n",
        "#Momentum Optimizer Implementation\n",
        "for iter in range(epochs):\n",
        "  for sample in range(Ns):\n",
        "    gm=-(y_train.iloc[sample]-m*X_train.iloc[sample]-c)*X_train.iloc[sample]\n",
        "    gc=-(y_train.iloc[sample]-m*X_train.iloc[sample]-c)\n",
        "    vm=gama*vm-eta*gm\n",
        "    vc=gama*vc-eta*gc\n",
        "    m=m+vm\n",
        "    c=c+vc\n",
        "print(\"m=\",round(m))\n",
        "print(\"c=\",round(c))\n",
        "\n",
        "#Training MSE\n",
        "y_train_pred=m*X_train+c\n",
        "train_mse=((y_train-y_train_pred)**2).mean()\n",
        "print(\"Train_MSE=\",round(train_mse))\n",
        "\n",
        "#Testing MSE\n",
        "y_test_pred=m*X_test+c\n",
        "test_mse=((y_test-y_test_pred)**2).mean()\n",
        "print(\"Test_MSE=\",round(test_mse))"
      ]
    },
    {
      "cell_type": "code",
      "source": [],
      "metadata": {
        "id": "D4Scq2jGA54T"
      },
      "execution_count": null,
      "outputs": []
    }
  ]
}