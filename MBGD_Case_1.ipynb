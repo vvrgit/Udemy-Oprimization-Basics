{
  "nbformat": 4,
  "nbformat_minor": 0,
  "metadata": {
    "colab": {
      "provenance": [],
      "authorship_tag": "ABX9TyOqfHL8xXQxdVHP7vrQ2G9C",
      "include_colab_link": true
    },
    "kernelspec": {
      "name": "python3",
      "display_name": "Python 3"
    },
    "language_info": {
      "name": "python"
    }
  },
  "cells": [
    {
      "cell_type": "markdown",
      "metadata": {
        "id": "view-in-github",
        "colab_type": "text"
      },
      "source": [
        "<a href=\"https://colab.research.google.com/github/vvrgit/Udemy-Oprimization-Basics/blob/main/MBGD_Case_1.ipynb\" target=\"_parent\"><img src=\"https://colab.research.google.com/assets/colab-badge.svg\" alt=\"Open In Colab\"/></a>"
      ]
    },
    {
      "cell_type": "markdown",
      "source": [
        "![image.png](data:image/png;base64,iVBORw0KGgoAAAANSUhEUgAAAL4AAAEtCAYAAAC28drEAAAAAXNSR0IArs4c6QAAAARnQU1BAACxjwv8YQUAAAAJcEhZcwAADsMAAA7DAcdvqGQAABYDSURBVHhe7Z29juNKeoZf+TL8k0meHQMNJzbs4h1ImGCiCScsplLQ4UQdTkCmzcDBhB110CDvQNzFLow5bnh7ZkkbBs7OwD8XUQ5I6oci1ZREqT6q3gcgcA7VU0HxZZH8ivVw9O2//s+AXJTlH3+F93d/U99NLsTyj79i9Mf/ZPAvzW+//Yp//g2Db4vffvsVo3//j/9l8C/M777/Gf/05q/ru8mF+N33P2P0nP8Pg39hfv+nH/jHv/2r+m5yIX7/px8Y/Vv23wz+hflD9hP/MPnL+m5yIf6Q/cToX+J/ZfCJc4yMMQz+hfnl20/8/W844tvil28/8Rf1nYS4AINPnITBJ07C4BMnYfCJkzD4xEkYfOIk8oOfh/BGI4y8EHn9NwBIfIxGI4z8pP4L6YE89DAajeCFjb2PxB9hNBphcN1vBkCsYQAYFWT1X4wGDKDMzk+C+fryo75LLllgFGAAbeK231RgBtT95uvLDzOI4Ld1fhaolhNCNoMK/p6Bp9qvd84I2Qwn+Bshx6qXy9F+YKONGWDwG0f2pn0DYVDBNyYzgVrf1gx1tDFDDH7D6F7//yExsOAbY2JdjPqqPvoPiyEGf3uEH+7V1gwy+BsjzdAeaDcZZPA3R3ldDDwDHXfM15cfRn45c4sc35+r/07xkm3/Ss7L9DaAAhBFKaAC3E7rfzEcBhX8PPyIRQoorYsDcNdS2yfnYTzHJ138p/40x7j++4AYUPATfF6kADQ+3d/jS6CAdIGPLRMr5DxM3qr6rkEymOAn/gwRAB3fYwpgPP8EDSBdfMbQJg2JfYYR/DzEXYTafeUUt4ECEGE2uPlyYpsBBD9H+HGBFArBl+37yvH8C4rsz4b3rgixivjg58lnFLf2nzDfeZoaY14+bfFBlxwCLQsWoGXBLrQsEGdh8ImTMPjESRh84iQMPnGS0deXH6zqEOdgOdMCLGfaheVM4iwMPnESBp84CYNPnITBJ07C4BMnYfCJkwgKfo7E9wpBbLl5no/kmJfs8xC+N8Jo5HNZYkfyPIHvFYLYYvPgh8lBaxz6aONi1J0jdqgsaYUsSmttdCWNOtCfs1INNrg2pSDOq1OJuqCM0nrlzTlE2rXu9+PbuBRihFK7Xsxyf3VAOnXc+uRRQVz+N4PfhSxQRgXxthWtRdTbxv42Dhu8zo2Q4G87MZt/69D5WWDUqo0D/p0FpAW/mX3HpSvrwajT2HUhhJjUMrykANQHvGtYU/vmBgCe8f21G8XxHEuzbFiXS+yj8HZS32cX+8HPv+MZAG7eNJq5CoERdYEXZ+8i/66Ugxpu8OboNs6D/eATGeQJkiRBkoQIfQ+jWQQojfj+eEFmHt4hAgD9Hse3ch4YfAIAyJ/uMJvNMJstsIhSAIC6eYuja5F5iI+l8vGUk+dcMPgEADCeL2GMKbcMWayBaIHZxMPhetIE/qSUgGWF8lEa9oM/foPi+fV74+CSFU++4h6OrpsxxtN7LGMNIMXi8yHTgDlCr/Kcyi022A8+JiieX1+w+/ya4DGCyIcjp2gZlHbJEXoTLFJAxwYC73BWCAj+GO8+FPLXu9o1tfHhqPrurS90Knxw5Ag9D+HOuyE5kmLU2a64tfb/Zugz0aGHnDW3CfxRcXmE0tA3AJ4jFM9YGrHZuE9M/KLiUN+PHIn/GY/l/z1HEVIoKH1T3Eq9fY/b+bSxZHppZK25XQcWUND6Blj1H3b7uaX/E3+EWbRx/Oq8fY/7uYyz4ZdvP6W8q2OMyWITbL7fAWWUbvi4WDUNrmvT46uPPbdtcmZx5c3cZiYOtFHV+1Io35mqv4Jg2vp/412rtk3Qh+K+vvwwQkZ8t5A14rsHLQvEWRh84iQMPnESBp84CYNPnITSWOIkLGdagOVMu7CcSZyFwSdOwuATJ2HwiZMw+MRJGHziJAw+cRJBwT9dGjsoaakweu+7xF8dS+/w1ernp/6Svh1Ol8YOTVoqih6ksdtsL0xRXQ7gBRHizuxHGjs0aakk9vfd4SvXiuOpTBAUx4/Bb2SfnPRU+atcaal89h2XfZRLQHW8upJIDL6Ae/yepLF7oZfnUiT+DJFQe9om9oN/VmmsXGmpeI6RxuYh7iJABbci7Wmb2A/+GWn08pBmTpbG5gg/LpCqAF86nyn2uN7gC5eWSuNkaWx5hdCf5o1XbmlcafDlS0ulcZo0NoE/iwAdizeoVdgPfu/S2GFIS2VzmDS2uqVUz4/wfX+93T0DANKHz/B9H+H+Zi5LvdRzefaVLCs7WtNvTcgsX9YZRjlzY2LrFQva9pcm2zcpZU0hdfx1x9U7pnFiq1FhZ2qhl9HBbcgKfmYCpUyw02eZiXUZ2k7934DgOr6I4G95L5UuX1moRoraaL+aXt/evzpI1b+vb4GcS4C84Fd9Xb4uonU5a7vbz2393wiD34GTpLHDk5bK4lRpbAuCg0/LggVoWbALLQvEWRh84iQMPnESBp84CYNPnITSWOIkLGdagOVMu7CcSZyFwSdOwuATJ2HwiZMw+MRJGHziJAw+cRJBwac01ib99d3ucRx5HnxJ620BCWtuzfZCkiOlsf2LT8+HuIUovfVdtZKuWEQUx7GJ48BoXbg5pSBmBVbj2lrTpzS2wzK5CyIt+P303bGuzcsjJPj7OmyfgaEL+9q2h7TgN3Ng35UnirRlhk04JI0l5yZ/ekAKhQ+7B1Ek9oN/TmnsMeJTUnBg3xXirxsgC3t6SD4v9oPfJyeLTx3mpL7L8f0ZACIsZgs833xAEMeI4wBapYgWM0yklXXq9z8XZ0NX0UT14Nvy8xZNRi+lA7PjSrKMxHv80/pu/Sy2e4t/6nNa/wi5x++P08SnbtNX3+1+h6B6TovwKGjQtx/83qWxFYeJT8kmh/bd8IoQ9oOPCYrn1xfsPr8meIzQzxdNWk4s0oEOfddehKju/48ZvM6HgOCP8e6DAhDhrnZNbfyiSR4W0+H+ZqUgR+h5CHfeb8iRFGdOa9WIHNh3jf0PjIshH9FduH2SVNWhxnK1Reo3/nY4VRp7oPjUMrIebg/su8b+N83tHPrayYUQMnNbcpI01piDxKeWkRV8c1jftfa/KdrRauOkOaQydDkojbUELQt2oWWBOAuDT5yEwSdOwuATJ2HwiZNQGkuchOVMC7CcaReWM4mzMPjESRh84iQMPnESBp84CYNPnITBJ04iKPi7stFDpbFbJP6qLe+Q1dKO0os0Nk8QNhzD3dVdAqi/pG+HHqSxW2yuBpKntRO3EKUXaWyDMDZYr+Tq3MwFELMCqw9p7CZFe8oEQfHvGfz99CGNbfUfveJNsoEQr06Op4dCIRLcblu7xtNbBApA9IjXBBdrEnxepIX67k39N9LEeL7Ecj7dXow/focPCp2VIcdrYOwgIPj9SmMTf4YIXdV3pC8qvcjDU82U8fSAFIASdkbYD36f0tg8xF0EqOB2rSMhx3GgNHY8/4JAAeliAs8PkeQ5ktDDZJECOsaXLo1cEPvB740c4ccFUhWI6+RBcJI0FgDGmC8zxFohjRaYTSaYLVKoIIO5r91GCeB6gl+OUPrTXFwnD4H86Q6z2Qyz2QKLKAUAqJu3OKiemT/h8bm411dKAQDSxUf4AsvJVxL8BP4sAnSMzgMU2eJkaWziYzRZIEKAOFtiuVzCZDEClSJaTDCiJrxOWf9VDfIoY0ysX6/lV6U0VVnYqq2aCyj3S/n+mLRyZiudy8lVDb+p9HngJ4UugJByZn/S2DSNEEUbW1pcslHuf+haGiLbvCaNrQoU6i12azdVZU4WAoJ/ujR2+zK9scUaAIoHLGOw5ENvAz1IYyvVe+PgVdmSuw1eF6N+GbDDqdLYFsq/5cztPhpkr0dIY1ez76Vzc/XKQtm2pGMg5pUFY0wP0tgGGPyO9CONzeJg4x2rMvBKm0CYNZbSWEvQsmAXWhaIszD4xEkYfOIkDD5xEgafOAmlscRJWM60AMuZdmE5kzgLg0+chMEnTsLgEydh8ImTMPjESRh84iSCgn+iNLZaGdS4+QeY2MirXIGQV8gEVo7QmxQCI6Wgb26A5+dyzaxCkC1flxrlIbzJAlAaNztrPN/jVpDbZdgTWBvHqlzWObQlnb98+ylj6WEv0thyZVCXP7WNvBVY3ZEu5O2CEMtC39JYcj6uR8grIPj9SmPJ+bgmIa/94PcpjQXw/L1yQCZIcp4tvXFlQl77we+ZdDErHZAzzCaT8pM2PAFO4/qEvNcT/PEcy5pQKosDKBTuRmnqxkFxhULe6wl+A+PpHMvSphbdhfs1eKSF6xTy2g9+pZ9r8TOe/ImZyVsUwmpyDJXGUT0/wvf99Xb3DABIHz7D932EQ7ui1mucl6dS2DUpAfdZeDtSmb9abMw2GFIdfzXH8so2pHq+GIXgSvNd67zGia09Crtd1l7Iets2GVLwWxGqZ+yCkAksYDz/BI3i+0kjr7yUeqPi+0n1unH2ghTFpNa6wpnA90bwPG/jcuxhNKpeg7ieagTpifrZYI0TpbFNwlIoZbQwYanhiG8dSmMtMeyX1IYPLQvEWRh84iQMPnESBp84CYNPnITSWOIkLGdagOVMu7CcSZyFwSdOwuATJ2HwiZMw+MRJGHziJAw+cRJBwT9RGrtit52R59GycAhHSmHzPIHveRuyXg9+mDSupbZO/SV9O6yXCEIpo7XeWFSiTPe1DtUa3WIRSxzHJo4Do7UyKjh61W7vyF6IsnEsDlhosl6bq4zS2ujNRUXChKbi1tzWO+ggaezqgB1yothBcvCPlcJmQTG4bP11tVpO2DEREvx9gd1nYKhRdnLXA2UTucEvr5g67mlp4frq0WnsuhBCFpv3I43Nnx6QQuHDbiOkI+eTwp7gRToT9oPfkzS2EE/dAFk4nAcsSZxFClsOarjBm6aDaxH7we+FHN+fASDCYrbA880HBHGMOA6gVYpoMcOEZZ09nEcKW1nYoN/3eDL1w5UEv0IjyAyW93PMp1NMp3PcLzN+XOI1ziGFzUN8bPIiCeHKgo+GS2r1nBDhkclv4BxS2AT+ZIEUCkF2L260h4jg9yKN7f4QTLbpXwqbI/RmiADouMNH+2xRL/Vcnn0ly+7S2GouYLdstq9cagdJ5cx+pbAyy5d1hNTxe5LGVpNddSty236LSAp+K211/Lb+3wq9lJ5uRkzw1yM7DJQuX1moRpvaaF8Fub5/a6r9lNcezs+gg9/S/7GuHb/6JuyVESHBNydLY8sfTaxVOU1eXqJ1YKQNQIMOfmP/b7/f07gJu+LSsmABWhbsQssCcRYGnzgJg0+chMEnTsLgEyehNJY4CcuZFmA50y4sZxJnYfCJkzD4xEkYfOIkDD5xEgafOAmDT5xEUPB3Za/dpbE5Qm9DEtu4eTjAf+o2R0pjt+ijjTMiZAIrR+hNsEgBKAV9cwM8PyNKi4XmQfbaouUcSfgZjy/1/QXPUYQUGrGRseJf9gTWxrEAoIIMy/2d30AfbZyPX779lLDYvGVtrTlUGttCH230jOQVWMdKYzfpo41zIsSdmePpoRzZb7fH4/H09mQZVPIYNbZNmkjwuTBLYf6m/ltX+mjj/AgIfj/S2EZKH2Rz26ROH9LYPtq4BPaD35M0tonk8wIpelbjXSt9SGP7aONC2A/+2UjwWBhL8V76UbBOH9LYPtq4HFcb/JUabwCjj3X6kMb20cYFudLglw9Y0Pg0gNHHLn1IY/to47LYD34v0tgayaNYL7s0+pDG9tHGxanXOC9PP9LYNfIksXUk1fH7kMb20cYlEaMQ7EUaWyFQEltHUvBbOUgh2EJbG5YRMoEFjOefoAGkiwlGXnmZ9EaYNH1RI3tBimJSq6nCWUxYDecha3C80v9DQUTwgSnusxiBVkAaIYoiRKmC0gGy+vs1k7dQKO7fd277VxNWAThReyb29f+AEPKSmlvIfknt+qFlgTgLg0+chMEnTsLgEydh8ImTUBpLnITlTAuwnGkXljOJszD4xEkYfOIkDD5xEgafOAmDT5yEwSdOIij4p0hjS/IEYUMb4UGNkNOEr7vHceR58CWttwUkrLk1G+tkYaCU0Vobrap1nF3Xzlbrc5VROjBxHJs40MUyOcAIUmcKX3q4cSwOXjbYcAziwGitjArkHABxa27rYtdDpLFVGzt/urFGVAqSg3+88FX+Iv8KIWtu+5HGHqUhITVOEL7mT3hIARV8eUXpLgMBwe9HGls5Nh+etv8wf3pACkDxjHiVU4SvRT8rfNg9iCKxH/yepLHj+RcEqjA1eH6IJM+RhF5hatDxIHyOVjlR+FpccW+ALITveVtfovHDpFEWZpX6/c/FeeUevPXevZHMxHpbbtT9HvVyyLvHL+/PN11EBzlxag/EOjBB9WBb7e92AC+CkHv8Hsmf8Phc3OsrpQAA6eIj/INLco7Rm/BVI8gMlvdzzKdTTKdz3C+zzs9pl+R6gp/4GE0WiBAgzpZYLpcwWYxApYgWE4zEFZKl0K/w9c3OmVM9p0V4FHQI7Ae/F2lsefCgES/nmFadP55ivhpx7vjVwwb6Eb52L0JIwX7wMUHx/PrSoKSrPu5w0zCSbFA9IKu3DXav6qCQfaSVwa7a0vKTheX+h1cS3V6EyPG9ODivDF4Xpn7jb4PTpbH7rMr7bMx2kPdw20Dbw21j/++R9bbtt4iYmdt1cGGgdPnKQlUlqAW26sja/tVJopTRQbx+ZaFsZ+cAWmTQwW/p/+3KzrGvnVwGQcE3xmSxCbZKkcX7Hjv91TbiGGOyONjo7DLwSpsgrv+lXQYd/D39X5WTq/ejUJY2hXW/+fryw9CyYAFaFuxCywJxFgafOAmDT5yEwSdOwuATJ6E0ljgJy5kWYDnTLixnEmdh8ImTMPjESRh84iQMPnESBp84CYNPnERQ8Hdlo8dKY9dOlxE8X6DTRTrHSmOHJO2tv6Rvh/NIY1cLWwQtezPiF6IcK43d7X/J0l4RwW9cW2sOk8bGurmDq/3dD+D5kRz8Y6WxreKvV4RhNhAilOpDGlvaGFSAWhOY3gYoJA47y//JDsdLY7tpYOQgIPg9SGMrvUgTr3h7yJpTpLFDk/baD35P0th29nl7yIoTpbFDk/baD34fjN/hgwKQPqA24JBO5Ag/LpCq4ISAjjFfZoi1QhotMJtMMFukUEEGcz9tHNRsch3BxxjviuRjMSm01EmSIAx9eKMJFqUUjLTQlzR2QNLeKwk+MJ4vkcUaSqWIFjPMZjMsHp5xEwTQqk0vSHqTxg5N2lsv9Vyesv7bUmsvypFda/lNlO0LK6dJYaVvrAx21VbNo5T793+7rYvC8ZRj2C9C6vj73Jb7OrQj5VyAoNyLDP5r2956flWrP9vg1S9Cgt+HNLaFVw6ILSQFv5WDFIL7Bqh9A5sdxAS/D2lsNaqsL9XVv5cz0lQMOvgt/T80aa+Q4JuTpbFZvO7k9b/vcFWwwKCD39L/xgxL2kvLggVoWbALLQvEWRh84iQMPnESBp84CYNPnITSWOIkLGdagOVMu7CcSZyFwSdOwuATJ2HwiZP8P4cTrqa0yUVSAAAAAElFTkSuQmCC)"
      ],
      "metadata": {
        "id": "pd3Y46GtRuKm"
      }
    },
    {
      "cell_type": "code",
      "source": [
        "import numpy as np\n",
        "import pandas as pd\n",
        "import random"
      ],
      "metadata": {
        "id": "7qj7UidIFfqM"
      },
      "execution_count": null,
      "outputs": []
    },
    {
      "cell_type": "code",
      "source": [
        "data=pd.read_excel(\"/content/SampleData - MBGD.xlsx\")\n",
        "data"
      ],
      "metadata": {
        "colab": {
          "base_uri": "https://localhost:8080/",
          "height": 331
        },
        "id": "751MdUXCSoVj",
        "outputId": "d079c471-440d-463d-da4c-122267b938e7"
      },
      "execution_count": null,
      "outputs": [
        {
          "output_type": "execute_result",
          "data": {
            "text/plain": [
              "     X    Y\n",
              "0  0.1  3.2\n",
              "1  0.2  3.4\n",
              "2  0.3  3.6\n",
              "3  0.4  3.8\n",
              "4  0.5  4.0\n",
              "5  0.6  4.2\n",
              "6  0.7  4.4\n",
              "7  0.8  4.6\n",
              "8  0.9  4.8"
            ],
            "text/html": [
              "\n",
              "  <div id=\"df-fe4e510d-fef2-4e64-81ee-7a7331b31584\" class=\"colab-df-container\">\n",
              "    <div>\n",
              "<style scoped>\n",
              "    .dataframe tbody tr th:only-of-type {\n",
              "        vertical-align: middle;\n",
              "    }\n",
              "\n",
              "    .dataframe tbody tr th {\n",
              "        vertical-align: top;\n",
              "    }\n",
              "\n",
              "    .dataframe thead th {\n",
              "        text-align: right;\n",
              "    }\n",
              "</style>\n",
              "<table border=\"1\" class=\"dataframe\">\n",
              "  <thead>\n",
              "    <tr style=\"text-align: right;\">\n",
              "      <th></th>\n",
              "      <th>X</th>\n",
              "      <th>Y</th>\n",
              "    </tr>\n",
              "  </thead>\n",
              "  <tbody>\n",
              "    <tr>\n",
              "      <th>0</th>\n",
              "      <td>0.1</td>\n",
              "      <td>3.2</td>\n",
              "    </tr>\n",
              "    <tr>\n",
              "      <th>1</th>\n",
              "      <td>0.2</td>\n",
              "      <td>3.4</td>\n",
              "    </tr>\n",
              "    <tr>\n",
              "      <th>2</th>\n",
              "      <td>0.3</td>\n",
              "      <td>3.6</td>\n",
              "    </tr>\n",
              "    <tr>\n",
              "      <th>3</th>\n",
              "      <td>0.4</td>\n",
              "      <td>3.8</td>\n",
              "    </tr>\n",
              "    <tr>\n",
              "      <th>4</th>\n",
              "      <td>0.5</td>\n",
              "      <td>4.0</td>\n",
              "    </tr>\n",
              "    <tr>\n",
              "      <th>5</th>\n",
              "      <td>0.6</td>\n",
              "      <td>4.2</td>\n",
              "    </tr>\n",
              "    <tr>\n",
              "      <th>6</th>\n",
              "      <td>0.7</td>\n",
              "      <td>4.4</td>\n",
              "    </tr>\n",
              "    <tr>\n",
              "      <th>7</th>\n",
              "      <td>0.8</td>\n",
              "      <td>4.6</td>\n",
              "    </tr>\n",
              "    <tr>\n",
              "      <th>8</th>\n",
              "      <td>0.9</td>\n",
              "      <td>4.8</td>\n",
              "    </tr>\n",
              "  </tbody>\n",
              "</table>\n",
              "</div>\n",
              "    <div class=\"colab-df-buttons\">\n",
              "\n",
              "  <div class=\"colab-df-container\">\n",
              "    <button class=\"colab-df-convert\" onclick=\"convertToInteractive('df-fe4e510d-fef2-4e64-81ee-7a7331b31584')\"\n",
              "            title=\"Convert this dataframe to an interactive table.\"\n",
              "            style=\"display:none;\">\n",
              "\n",
              "  <svg xmlns=\"http://www.w3.org/2000/svg\" height=\"24px\" viewBox=\"0 -960 960 960\">\n",
              "    <path d=\"M120-120v-720h720v720H120Zm60-500h600v-160H180v160Zm220 220h160v-160H400v160Zm0 220h160v-160H400v160ZM180-400h160v-160H180v160Zm440 0h160v-160H620v160ZM180-180h160v-160H180v160Zm440 0h160v-160H620v160Z\"/>\n",
              "  </svg>\n",
              "    </button>\n",
              "\n",
              "  <style>\n",
              "    .colab-df-container {\n",
              "      display:flex;\n",
              "      gap: 12px;\n",
              "    }\n",
              "\n",
              "    .colab-df-convert {\n",
              "      background-color: #E8F0FE;\n",
              "      border: none;\n",
              "      border-radius: 50%;\n",
              "      cursor: pointer;\n",
              "      display: none;\n",
              "      fill: #1967D2;\n",
              "      height: 32px;\n",
              "      padding: 0 0 0 0;\n",
              "      width: 32px;\n",
              "    }\n",
              "\n",
              "    .colab-df-convert:hover {\n",
              "      background-color: #E2EBFA;\n",
              "      box-shadow: 0px 1px 2px rgba(60, 64, 67, 0.3), 0px 1px 3px 1px rgba(60, 64, 67, 0.15);\n",
              "      fill: #174EA6;\n",
              "    }\n",
              "\n",
              "    .colab-df-buttons div {\n",
              "      margin-bottom: 4px;\n",
              "    }\n",
              "\n",
              "    [theme=dark] .colab-df-convert {\n",
              "      background-color: #3B4455;\n",
              "      fill: #D2E3FC;\n",
              "    }\n",
              "\n",
              "    [theme=dark] .colab-df-convert:hover {\n",
              "      background-color: #434B5C;\n",
              "      box-shadow: 0px 1px 3px 1px rgba(0, 0, 0, 0.15);\n",
              "      filter: drop-shadow(0px 1px 2px rgba(0, 0, 0, 0.3));\n",
              "      fill: #FFFFFF;\n",
              "    }\n",
              "  </style>\n",
              "\n",
              "    <script>\n",
              "      const buttonEl =\n",
              "        document.querySelector('#df-fe4e510d-fef2-4e64-81ee-7a7331b31584 button.colab-df-convert');\n",
              "      buttonEl.style.display =\n",
              "        google.colab.kernel.accessAllowed ? 'block' : 'none';\n",
              "\n",
              "      async function convertToInteractive(key) {\n",
              "        const element = document.querySelector('#df-fe4e510d-fef2-4e64-81ee-7a7331b31584');\n",
              "        const dataTable =\n",
              "          await google.colab.kernel.invokeFunction('convertToInteractive',\n",
              "                                                    [key], {});\n",
              "        if (!dataTable) return;\n",
              "\n",
              "        const docLinkHtml = 'Like what you see? Visit the ' +\n",
              "          '<a target=\"_blank\" href=https://colab.research.google.com/notebooks/data_table.ipynb>data table notebook</a>'\n",
              "          + ' to learn more about interactive tables.';\n",
              "        element.innerHTML = '';\n",
              "        dataTable['output_type'] = 'display_data';\n",
              "        await google.colab.output.renderOutput(dataTable, element);\n",
              "        const docLink = document.createElement('div');\n",
              "        docLink.innerHTML = docLinkHtml;\n",
              "        element.appendChild(docLink);\n",
              "      }\n",
              "    </script>\n",
              "  </div>\n",
              "\n",
              "\n",
              "    <div id=\"df-66a780e9-6b69-47b6-9c7e-dc08ce920265\">\n",
              "      <button class=\"colab-df-quickchart\" onclick=\"quickchart('df-66a780e9-6b69-47b6-9c7e-dc08ce920265')\"\n",
              "                title=\"Suggest charts\"\n",
              "                style=\"display:none;\">\n",
              "\n",
              "<svg xmlns=\"http://www.w3.org/2000/svg\" height=\"24px\"viewBox=\"0 0 24 24\"\n",
              "     width=\"24px\">\n",
              "    <g>\n",
              "        <path d=\"M19 3H5c-1.1 0-2 .9-2 2v14c0 1.1.9 2 2 2h14c1.1 0 2-.9 2-2V5c0-1.1-.9-2-2-2zM9 17H7v-7h2v7zm4 0h-2V7h2v10zm4 0h-2v-4h2v4z\"/>\n",
              "    </g>\n",
              "</svg>\n",
              "      </button>\n",
              "\n",
              "<style>\n",
              "  .colab-df-quickchart {\n",
              "      --bg-color: #E8F0FE;\n",
              "      --fill-color: #1967D2;\n",
              "      --hover-bg-color: #E2EBFA;\n",
              "      --hover-fill-color: #174EA6;\n",
              "      --disabled-fill-color: #AAA;\n",
              "      --disabled-bg-color: #DDD;\n",
              "  }\n",
              "\n",
              "  [theme=dark] .colab-df-quickchart {\n",
              "      --bg-color: #3B4455;\n",
              "      --fill-color: #D2E3FC;\n",
              "      --hover-bg-color: #434B5C;\n",
              "      --hover-fill-color: #FFFFFF;\n",
              "      --disabled-bg-color: #3B4455;\n",
              "      --disabled-fill-color: #666;\n",
              "  }\n",
              "\n",
              "  .colab-df-quickchart {\n",
              "    background-color: var(--bg-color);\n",
              "    border: none;\n",
              "    border-radius: 50%;\n",
              "    cursor: pointer;\n",
              "    display: none;\n",
              "    fill: var(--fill-color);\n",
              "    height: 32px;\n",
              "    padding: 0;\n",
              "    width: 32px;\n",
              "  }\n",
              "\n",
              "  .colab-df-quickchart:hover {\n",
              "    background-color: var(--hover-bg-color);\n",
              "    box-shadow: 0 1px 2px rgba(60, 64, 67, 0.3), 0 1px 3px 1px rgba(60, 64, 67, 0.15);\n",
              "    fill: var(--button-hover-fill-color);\n",
              "  }\n",
              "\n",
              "  .colab-df-quickchart-complete:disabled,\n",
              "  .colab-df-quickchart-complete:disabled:hover {\n",
              "    background-color: var(--disabled-bg-color);\n",
              "    fill: var(--disabled-fill-color);\n",
              "    box-shadow: none;\n",
              "  }\n",
              "\n",
              "  .colab-df-spinner {\n",
              "    border: 2px solid var(--fill-color);\n",
              "    border-color: transparent;\n",
              "    border-bottom-color: var(--fill-color);\n",
              "    animation:\n",
              "      spin 1s steps(1) infinite;\n",
              "  }\n",
              "\n",
              "  @keyframes spin {\n",
              "    0% {\n",
              "      border-color: transparent;\n",
              "      border-bottom-color: var(--fill-color);\n",
              "      border-left-color: var(--fill-color);\n",
              "    }\n",
              "    20% {\n",
              "      border-color: transparent;\n",
              "      border-left-color: var(--fill-color);\n",
              "      border-top-color: var(--fill-color);\n",
              "    }\n",
              "    30% {\n",
              "      border-color: transparent;\n",
              "      border-left-color: var(--fill-color);\n",
              "      border-top-color: var(--fill-color);\n",
              "      border-right-color: var(--fill-color);\n",
              "    }\n",
              "    40% {\n",
              "      border-color: transparent;\n",
              "      border-right-color: var(--fill-color);\n",
              "      border-top-color: var(--fill-color);\n",
              "    }\n",
              "    60% {\n",
              "      border-color: transparent;\n",
              "      border-right-color: var(--fill-color);\n",
              "    }\n",
              "    80% {\n",
              "      border-color: transparent;\n",
              "      border-right-color: var(--fill-color);\n",
              "      border-bottom-color: var(--fill-color);\n",
              "    }\n",
              "    90% {\n",
              "      border-color: transparent;\n",
              "      border-bottom-color: var(--fill-color);\n",
              "    }\n",
              "  }\n",
              "</style>\n",
              "\n",
              "      <script>\n",
              "        async function quickchart(key) {\n",
              "          const quickchartButtonEl =\n",
              "            document.querySelector('#' + key + ' button');\n",
              "          quickchartButtonEl.disabled = true;  // To prevent multiple clicks.\n",
              "          quickchartButtonEl.classList.add('colab-df-spinner');\n",
              "          try {\n",
              "            const charts = await google.colab.kernel.invokeFunction(\n",
              "                'suggestCharts', [key], {});\n",
              "          } catch (error) {\n",
              "            console.error('Error during call to suggestCharts:', error);\n",
              "          }\n",
              "          quickchartButtonEl.classList.remove('colab-df-spinner');\n",
              "          quickchartButtonEl.classList.add('colab-df-quickchart-complete');\n",
              "        }\n",
              "        (() => {\n",
              "          let quickchartButtonEl =\n",
              "            document.querySelector('#df-66a780e9-6b69-47b6-9c7e-dc08ce920265 button');\n",
              "          quickchartButtonEl.style.display =\n",
              "            google.colab.kernel.accessAllowed ? 'block' : 'none';\n",
              "        })();\n",
              "      </script>\n",
              "    </div>\n",
              "\n",
              "  <div id=\"id_fc12422e-2eea-4648-93b8-8e397ccfc217\">\n",
              "    <style>\n",
              "      .colab-df-generate {\n",
              "        background-color: #E8F0FE;\n",
              "        border: none;\n",
              "        border-radius: 50%;\n",
              "        cursor: pointer;\n",
              "        display: none;\n",
              "        fill: #1967D2;\n",
              "        height: 32px;\n",
              "        padding: 0 0 0 0;\n",
              "        width: 32px;\n",
              "      }\n",
              "\n",
              "      .colab-df-generate:hover {\n",
              "        background-color: #E2EBFA;\n",
              "        box-shadow: 0px 1px 2px rgba(60, 64, 67, 0.3), 0px 1px 3px 1px rgba(60, 64, 67, 0.15);\n",
              "        fill: #174EA6;\n",
              "      }\n",
              "\n",
              "      [theme=dark] .colab-df-generate {\n",
              "        background-color: #3B4455;\n",
              "        fill: #D2E3FC;\n",
              "      }\n",
              "\n",
              "      [theme=dark] .colab-df-generate:hover {\n",
              "        background-color: #434B5C;\n",
              "        box-shadow: 0px 1px 3px 1px rgba(0, 0, 0, 0.15);\n",
              "        filter: drop-shadow(0px 1px 2px rgba(0, 0, 0, 0.3));\n",
              "        fill: #FFFFFF;\n",
              "      }\n",
              "    </style>\n",
              "    <button class=\"colab-df-generate\" onclick=\"generateWithVariable('data')\"\n",
              "            title=\"Generate code using this dataframe.\"\n",
              "            style=\"display:none;\">\n",
              "\n",
              "  <svg xmlns=\"http://www.w3.org/2000/svg\" height=\"24px\"viewBox=\"0 0 24 24\"\n",
              "       width=\"24px\">\n",
              "    <path d=\"M7,19H8.4L18.45,9,17,7.55,7,17.6ZM5,21V16.75L18.45,3.32a2,2,0,0,1,2.83,0l1.4,1.43a1.91,1.91,0,0,1,.58,1.4,1.91,1.91,0,0,1-.58,1.4L9.25,21ZM18.45,9,17,7.55Zm-12,3A5.31,5.31,0,0,0,4.9,8.1,5.31,5.31,0,0,0,1,6.5,5.31,5.31,0,0,0,4.9,4.9,5.31,5.31,0,0,0,6.5,1,5.31,5.31,0,0,0,8.1,4.9,5.31,5.31,0,0,0,12,6.5,5.46,5.46,0,0,0,6.5,12Z\"/>\n",
              "  </svg>\n",
              "    </button>\n",
              "    <script>\n",
              "      (() => {\n",
              "      const buttonEl =\n",
              "        document.querySelector('#id_fc12422e-2eea-4648-93b8-8e397ccfc217 button.colab-df-generate');\n",
              "      buttonEl.style.display =\n",
              "        google.colab.kernel.accessAllowed ? 'block' : 'none';\n",
              "\n",
              "      buttonEl.onclick = () => {\n",
              "        google.colab.notebook.generateWithVariable('data');\n",
              "      }\n",
              "      })();\n",
              "    </script>\n",
              "  </div>\n",
              "\n",
              "    </div>\n",
              "  </div>\n"
            ],
            "application/vnd.google.colaboratory.intrinsic+json": {
              "type": "dataframe",
              "variable_name": "data",
              "summary": "{\n  \"name\": \"data\",\n  \"rows\": 9,\n  \"fields\": [\n    {\n      \"column\": \"X\",\n      \"properties\": {\n        \"dtype\": \"number\",\n        \"std\": 0.2738612787525831,\n        \"min\": 0.1,\n        \"max\": 0.9,\n        \"num_unique_values\": 9,\n        \"samples\": [\n          0.8,\n          0.2,\n          0.6\n        ],\n        \"semantic_type\": \"\",\n        \"description\": \"\"\n      }\n    },\n    {\n      \"column\": \"Y\",\n      \"properties\": {\n        \"dtype\": \"number\",\n        \"std\": 0.5477225575051661,\n        \"min\": 3.2,\n        \"max\": 4.8,\n        \"num_unique_values\": 9,\n        \"samples\": [\n          4.6,\n          3.4,\n          4.2\n        ],\n        \"semantic_type\": \"\",\n        \"description\": \"\"\n      }\n    }\n  ]\n}"
            }
          },
          "metadata": {},
          "execution_count": 117
        }
      ]
    },
    {
      "cell_type": "code",
      "source": [
        "from sklearn.model_selection import train_test_split\n",
        "X_train,X_test,y_train,y_test=train_test_split(data.X,data.Y,test_size=0.1,random_state=42)\n",
        "y_test"
      ],
      "metadata": {
        "colab": {
          "base_uri": "https://localhost:8080/",
          "height": 115
        },
        "id": "DRWsAGyqSvJt",
        "outputId": "77502655-d36d-4315-851e-349005894764"
      },
      "execution_count": null,
      "outputs": [
        {
          "output_type": "execute_result",
          "data": {
            "text/plain": [
              "7    4.6\n",
              "Name: Y, dtype: float64"
            ],
            "text/html": [
              "<div>\n",
              "<style scoped>\n",
              "    .dataframe tbody tr th:only-of-type {\n",
              "        vertical-align: middle;\n",
              "    }\n",
              "\n",
              "    .dataframe tbody tr th {\n",
              "        vertical-align: top;\n",
              "    }\n",
              "\n",
              "    .dataframe thead th {\n",
              "        text-align: right;\n",
              "    }\n",
              "</style>\n",
              "<table border=\"1\" class=\"dataframe\">\n",
              "  <thead>\n",
              "    <tr style=\"text-align: right;\">\n",
              "      <th></th>\n",
              "      <th>Y</th>\n",
              "    </tr>\n",
              "  </thead>\n",
              "  <tbody>\n",
              "    <tr>\n",
              "      <th>7</th>\n",
              "      <td>4.6</td>\n",
              "    </tr>\n",
              "  </tbody>\n",
              "</table>\n",
              "</div><br><label><b>dtype:</b> float64</label>"
            ]
          },
          "metadata": {},
          "execution_count": 120
        }
      ]
    },
    {
      "cell_type": "code",
      "source": [
        "num_batches=2\n",
        "X_train_batches = np.array_split(X_train, num_batches)\n",
        "y_train_batches = np.array_split(y_train, num_batches)\n",
        "\n",
        "print(\"Number of batches:\", len(X_train_batches))\n",
        "print(\"First batch of X_train:\")\n",
        "print(X_train_batches[0])\n",
        "print(\"First batch of y_train:\")\n",
        "print(y_train_batches[0])"
      ],
      "metadata": {
        "colab": {
          "base_uri": "https://localhost:8080/"
        },
        "id": "oXhPHJvaS9o6",
        "outputId": "ad966852-5e4e-40ec-9399-8761201265a2"
      },
      "execution_count": null,
      "outputs": [
        {
          "output_type": "stream",
          "name": "stdout",
          "text": [
            "Number of batches: 2\n",
            "First batch of X_train:\n",
            "1    0.2\n",
            "5    0.6\n",
            "0    0.1\n",
            "8    0.9\n",
            "Name: X, dtype: float64\n",
            "First batch of y_train:\n",
            "1    3.4\n",
            "5    4.2\n",
            "0    3.2\n",
            "8    4.8\n",
            "Name: Y, dtype: float64\n"
          ]
        },
        {
          "output_type": "stream",
          "name": "stderr",
          "text": [
            "/usr/local/lib/python3.11/dist-packages/numpy/_core/fromnumeric.py:57: FutureWarning: 'Series.swapaxes' is deprecated and will be removed in a future version. Please use 'Series.transpose' instead.\n",
            "  return bound(*args, **kwds)\n"
          ]
        }
      ]
    },
    {
      "cell_type": "code",
      "source": [
        "print(\"Number of batches:\", len(X_train_batches))\n",
        "print(\"Second batch of X_train:\")\n",
        "print(X_train_batches[1])\n",
        "print(\"Secons batch of y_train:\")\n",
        "print(y_train_batches[1])"
      ],
      "metadata": {
        "colab": {
          "base_uri": "https://localhost:8080/"
        },
        "id": "YaxtO2FtTdAQ",
        "outputId": "2ee7bae0-c2e5-43e4-e5e3-2c460aa7ce11"
      },
      "execution_count": null,
      "outputs": [
        {
          "output_type": "stream",
          "name": "stdout",
          "text": [
            "Number of batches: 2\n",
            "Second batch of X_train:\n",
            "2    0.3\n",
            "4    0.5\n",
            "3    0.4\n",
            "6    0.7\n",
            "Name: X, dtype: float64\n",
            "Secons batch of y_train:\n",
            "2    3.6\n",
            "4    4.0\n",
            "3    3.8\n",
            "6    4.4\n",
            "Name: Y, dtype: float64\n"
          ]
        }
      ]
    },
    {
      "cell_type": "markdown",
      "source": [
        "![image.png](data:image/png;base64,iVBORw0KGgoAAAANSUhEUgAAA6AAAAKoCAIAAADmgwU/AAAgAElEQVR4Aey9f6wlV33gWZqdkI5mlGRmpBmvdqXl7a+g9wer9vOgZNskWcR4eIIdEdIzHWcaj7XR5DG9maE3CAX1An68ngVWSuTEsjuLzI0xL+BM1iYhDnTTDsZOaP8gEMfEYBPcaYfZnu7YYI8x0DZu2+uq86O+dernrVunfp1P68k+99b5+flW1fm8886tG73EPwhAAAKTIvDCxeef+sYj3/jTz3zlDz/0p7s7tT8P/t71Xzn+W/bn4T/62F994aT9+eNP7kZR9Mef3H303k/bPCrxpY+/v7ZymeEvPnnszD2f/ObpP7/43IVJEaWzEIAABOZGIJrbgBgPBCAQEoGLz134z2cf/Y9/9tmvHl9I12ye/oNrfzmKoj+49pebF5E5v/KHH3rsvk9968xD3//eMyGBZ6wQgAAERk0AwR11eOgcBCDQnMALF5//9vnHvnn6z88+ePfX7/oPj5y8uckS7FKC+9Xji0dO3nz2wbvPPfT5b59/jJXa5tEhJwQgAIE+CSC4fdKmLQhAoG8Cynq/deahsw/ebX/+8rMfe+Tkzerns7u/FkXRZ3d/zb7zl5/9mM159sG7v3XmIVy277DRHgQgAIHVCCC4q/GjNAQgMHECZ86ciaLozJkzEx8H3YcABCAAgZQAgpuyIAUBCARIAMENMOgMGQIQmD0BBHf2IWaAEIBAFQEEt4oOxyAAAQhMkwCCO8240WsIQKAjAghuRyCpBgIQgMCICCC4IwoGXYEABPongOD2z5wWIQABCPgmgOD6Jkz9EIDAqAkguKMOD52DAAQg0IoAgtsKG4UgAIG5EEBw5xJJxgEBCEAgJYDgpixIQQACARJAcAMMOkOGAARmTwDBnX2IGSAEIFBFAMGtosMxCEAAAtMkgOBOM270GgIQ6IgAgtsRSKqBAAQgMCICCO6IgkFXIACB/gkguP0zp0UIQAACvgkguL4JUz8EIDBqAgjuqMND5yAAAQi0IoDgtsJGIQhAYC4EENy5RJJxQAACEEgJILgpC1IQgECABBDcAIPOkCEAgdkTQHBnH2IGCAEIuATuvffea8y/w4cPR1F0+PBh88Y1Lx91C/AaAhCAAAQmRQDBnVS46CwEINAFgXPnzu3Zsycq+rdnz55z58510Qh1QAACEIDAYAQQ3MHQ0zAEIDAgAbVwm1fcl5dyB+wVTUMAAhCAQCcEENxOMFIJBCAwMQKFi7gs304sinQXAhCAQAkBBLcEDG9DAAJzJ5BfxGX5du4xZ3wQgEAoBBDcUCLNOCEAAYeAs4jL8q3Dh5cQgAAEpksAwZ1u7Og5BCCwKgG5iMvy7ao0KQ8BCEBgNAQQ3NGEgo5AAAK9E7CLuCzf9s6eBiEAAQh4JBCu4L7wxKPf/8Mjz33ynfxAAAIhE/i3/2wjiqJ/+882QobA2CEAAQjMjECggnvx4c9c+NCbLhy7gh8IQCBwAo998Kd+5If+9mMf/KnAOTB8CEAAAnMiEJ7gXnzu+buvm1MIGQsEILAigfuP/MSKNVAcAhCAAARGRSAswX3xu08+d9vbRxUAOgMBCEAAAhCAAAQg0C2BgAT3hbMPPrt4i4PvmU8defpPfoMfCEAAAhCAAAQgAIFJE3jmU0es5oUiuM9/6XfsmFXiex9641N/9tuPP32aHwhAAAIQgAAEIACBSRN48qFPXPjwm63szV9wX3z2me8f37YDVonv3nzlNx+7a9KBpPMQgAAEIAABCEAAAo8/ffrbd37QMb2ZC+6LT37j2Vt+wRnzM7e/8/En/oITAgIQgAAEIAABCEBg0gSeOP/Ad277Jcf0nrvt7XMW3Itf/1z+WWBP/8lvTDqQdB4CEIAABCAAAQhA4PGnT3/r9B3fu2m/Y7fP333dSxefm6ngXnzu+c//pjPgCx9+87cevp0TAgIQgAAEIAABCEBg6gSe+uJN3/vQGzOy96E3XXz4M+rr0WYouIXPAvvuLb/wzf/0hanHkv5DAAIQgAAEIACBwAk88eQj8oEJynGf3X3rC088ar/8d26CGz8L7CMHMjp/7Ipv3/Hvn3jykcDPBoYPAQhAAAIQgAAEpk7gm9849d3cx6u+/4dHXnz2GWu3L7300qwE9/kHP+GobfwssC/eNPVY0n8IQAACEIAABCAAAedZYMr6nv/CR6XazmqLQvwssJPvd+yWZ4FxJUAAAhCAAAQgAIF5EHj6T37DMb1nF2+5+Nd/mrfbmazgFj4L7Du/f5hngc3jhGYUEIAABCAAAQgETeCJvyh4Ftjv/psXv32+0G7nILgXv/65/Bfw8iywoC8Dvp0OAhCAAAQgAIG5EPjW6Tu+e/OVztrt9+/81ZcuPldmt5MX3MJngT350CfQOwhAAAIQgAAEIACBqRMofBbY8w/dXqG26tBUP2QWPwvsk+90dJ5ngU39PKb/gRC4/wOXRlEUXb1YabwPvOeyuJYrb5nLKsVKNHqH0E0Qnz79OHHsPXbTOtPobbAEnnjykW/f8e8d04ufBXb+q7V2O9UV3BfOf7XgWWCfuYZngXm6DG65OvaIyz5wp6f6W1SruhR3q1u/0XNtXO9Vt55u0bHxFbnz6GvGNpzOuqROg6lE6v4PXJkYeWz292ecpjMg5adf500sVWFN5hHHsabn5cDncfdYdhRzwzXCuS+cU+6b/+kL+WeBPffJdzrPAqsw3emt4MbPAvvQm6TRB/4sMKF6ie9Fl17mTp/L3qTc/BUXeVHr77nlAbeGzq9J0W6ygHfrlcngLz2aNr24KnnrqlsdL9e34MzyoS1+q1oUjEv2I/RiIEl3X3PpVR3/IrHUlHPnLVdfqiUscyItjCU7MFsFOrdiVwehrFenH1eBe817sr7YqlcZ4/RQg/jdKXI7vFSM2vWt6yZyQay8xutabxpHXU+za7P6pK0+aiHLnjcsYssGmJC45jB8dWtqdr7NYbyVV3GvA/zWw7df+PCbpeldOHbF8/ctKnQ2f2hSgnvxucJngX3r9B3jiUrvPdE3lESOxH9W/ONvdrIvv8hLWo8ubbKotsqfOHNdMj0x6qArNy8zcbE6q23YlDXQcpX7u7BN0yJ0Dd26MT3dRIOIFHTGlCr7baENmVzPC9oVEAqOml5N6q/bVQ7XPEYu8BxMN4M589s3YWrI1Ny4XVWqrvWmuqzraSYcmZM21+HM0cIxJm/KnjcskgFVXnNNtlyHa/K3bqjTghLXJDpc08ke54KannQaprG3VfwssL86lVfY6ncmI7jFzwK77ZeCfxaYc8e/8xa1u7HTP9yXX+RO66cff2BxVfIH8SY7B1a5gxd0SWtrFNuPWS1LTSij7LrbehFXF0y3chZUnine4d3BAZjtWGWjjenpOktQiLFoaGYV/IHF0asb/aKy7J03h7cSQk2vrHOIgVRyW7a3XeXX8Sr8jevpxjHKDa370yDXRCGBXBCr+dcOsGEcnVOlutHM0cagMqUeXyE0hdyav9m2w07/e35ZG+ie+7Nqc0ue56s21/z0mG3OJ/7imdvdj1c997v/5sUnv1HtsoVHpyG4F//qFM8CKzmhc3d8RwiePp3u/Iuiy65O/5gbv69lNF4/zG5siP8orFYVL7v6PUdL9+DmWo9nRz1XqVWWklZ0wXThMlk9LclccNcovO+oN6PX6A7n/hAs6kkpFQyhsHLDX+W/8pYH3mNUPrOp4P5b32OoZt43xUUfYlZO687LJHYFMdLZHHqPP33nLXaXZ7yIrrYT6MxXfcD+7lHSMc0kMgVlV00l4pcH27pdTis707JjF1Vpl9LvmHqyL6t6lQco+1yWVvWXRvBxdclY7K+xJMsqTN/PnMCioD4zDTIzUlvQMBExuuwD6SfwMtWml6ouZWq1H9preRqUha/olDYdTvepV1M1+UsGmLsQLBknoesxAJs1eqsulQVlupQMoYRweoIlvx+KIua0tHWaLpXeb7NXQTquIuyFHS67G6RVLdOEHdqVt6SrEvEsICvJYBHnc5KnzWlWdC5V9F9xcC/V+5PfvRV5p8O285mep5eMHHXxDTy+izaa++Kqiu63FcPhUA2Bbz52V8GzwE6+v/pZYIVqq96cgOA+f9/C2Ydx4cNv5llg5krWt0Jze73TSp7alejMrPFNQa8haQ21N+g4Ye5uBaWK96Q6revTVxePaytrpfAOXpa54KpQTZhRmwyZWcesRJasSOlOvkZtOU2Xbx9/+nRx5Vkby3Czn0jLdCCKopo+2Hld1iZ+0ygDUkhPd1tUpQaVy5zkKFrQFTlfc+XRzN5lfSgu5Y5Rb1bWPEXz5kwz0dEA1aAkGdGuKS4giKNur+KaK4PlNK1eigpNc/IzhQUDKT753corCjqH3PPW/J4juhMnTbY+TgOnh3Hz6kbhhlsFrlEQBdVi5maAzeOo6zEFi6s157Y+elW94JYRtj4UNRTcUozVdyEZ+Bh7blxV91L3PDRTg36/vEu5VpJuGLb5+4k8J/NHG9xtis+liv4X91DSEueYrKc+oGWVFOBKr0TZRBmBTB4nFrysIPDUn/329z70xozsfehNTZ4FNlXBffHZZ4qfBfaNUxWYAjtUeAuw9uDMQ+pDEvro/bcu7jcfydJ/DstOafpO94C+WdgbnyCsW3cO6XtEosulrcTrZO6zoioyi0bjO4hqwmk344va48tvN+Ju69RTUrmqygB/jfosnXmpfjfQ+yztvd4Goqwbpnj2dmuXJSqAuPTMcPT6a7wqY7uR1F7YYXfevfOoWb2Iy+ganGnejCWztaPqTMvGzsmZVp5lIBeTynoV90SebNmGTD/zY1Srs4VALEb9UT/3N8bSJuoKZi6xsi7pj4eas8Kcw/5PAyco4kZRfEo7+UUQC6laYysZYOM4ajLmgk1BJR9sNS/VxWgaVb7rXi/O0bKbYSabrt8IdHKCtbwK1MnpYBTYV7s9irO0ookUV7IaYl5mZwHzmdfshWDPdvVrcMO7TfG5VHad5k8qNZbkyTnxzGU6rMOdqaf8kjGlCk9UMy59glXMfSZn7n6b6YYIBO+XEih+FthHDjR8FtgkBbfwWWDPfOoIzwLLXjPmchV2kP6JWd98xbEkqW/Q8R/Z9T4EnUPd2jK37PikLBc+3bqZb/QZnHGOslaK7uCPl2fOjrqkS9nxZuYhVynSceW3C5ePN72r2sqzE6fdBhBd9porb3mg9pkDLsD79RCMGZcDybZb8TwB3URJh4tuOg+kf6Qzq7BuJWYd1/QzS96ecLZRET5nxk2R2rPIhaBiV9ArEcSiSU40KofpjiVDUg3EmGVcg57J1G8Lsp5suq6gbkXWnJ6Tbpf00yHsTnrfp0FV+ApP6dIg2ohnqBoXsUfdAZqbjP0jUnXszKnicqtoNHsoPet0l0oJyyZkOom+PjdaXAVJ8SrsBb//N789pvSqmsgNR2dOTnWVlqervBDyR/XJ7NaZxV54LmWvo/SiyMXInCQm+kWIbPFGAY2bzvRQEkiqKp0LSglUDIdDBQSeOP/Ad373bZmF22NXxM8C++6TFeba8NBItyg8/9DtPAssvUnZi7YgoW8o6pq//wPqaVmRvmvry9X6hk7ER80voJlj3Qiu/j077lJFK86dJTWJTI+MYLkXRtF9J0WhDdv6QQG3uEJ9a5M38eqbWny0+g4eZ4g3ZpkdnOmMXtyHtM8m3JpeTYxs563Yld5wazvsstU9ydzrnUpEJ9W4Ks40d+ClbmTnLbuzpYBepldxz4vOhJIR6Z44YzGngSKZxyjndXcsoqG6gmUnW0Lb7VLG/5a6iPLdaD7q7JUn/vibP6VLg2hDlvGG3FWTGWDSw2Zx1KDMqeJyq2g0eyh7IVcRlk3IdPphAztkMyiXY5rBOX/0yVyc3+1wVSfFebhEE85wzC/J6raZP5HkhZA/2uQ0i/Pkz6XyzudOG+ckcRHZsVexckedqURHJP1t1mnR3KUNq9zckWawnSFRTuBbXz9R8Cywz/9mQ3+tzTY+wb343Pfv/FVH57930/6wnwVWfwtw7vjZ/XNmgUGeZ/oOpa9kfZGry9XcHdI/viR3YNOE7Iy+WdhD96efV5DLAEWtWEWz94iKLsmeJ+n8fUcPQd2dzRBsx1R+Z30oM2rRhFN5tmzN/dFuHtWfVEi0KVtDJUB9h01CVgnE7bwZchq17BYFO8vqgtaM7cBvvfKyq+0zjM3jOHR05KjdoMf3dN160Zlm69cJWZVC4VaYWcGt6lWqKdWBzs46bgcyQCzGki0KzrmR1lxX0I1XBovukvkCCPNSwe/hNKgIX8xffy2FOKVdhnW/+JkRlW5R0Bnq4uhkc7uRCWVWj3L8RdkqwiJbpkKnJ8mZXIExE25zB6jM73a4qpPlG3WqmtBDKD7rdMGo3RaF4rtN8blU3vkM8Biac/Vlw22oPm3ts3DekQGNi2QqsaO2Wy/K5r58znRDl+hJYdx5MyHwn+855pjes4u3XFz+WWAVmjsuwX3x2+ef+91/44z5OzwLrOp6yN1n1X3QfOxJq1VmjSC57M31mTmStZnMoeKN9uYW6WS1z8GtasXchlTZqxdGkrJ1Wf3NQnDudPk1P33bMou4mkPW6twpxDThVJ4tW3l/NPDtGNSEna1B3v5KAKpRL0XPTAa2abP1orLDZsjpjV6Ul2t45oseslFTmaXEZ4rrCSa1wKQ5B691o0xR8yEnE8fMQTt95uNejtpirwZSHBHTojmaPZGSAZpDmZ5GpqCZR4vP58qyvZwGmlum80n4Kk9p66M2iO54NajKAcZnhfs3gZI46npMu/pldaP6qBxI3CtRtoqwyCaLyNoUtCWvAnVRlGK3lmYrr+pkhSOaQ/nImuFkjpiJw/JpfFRd7BJXTh9z0BreHm18FS4TfXNN5S/GKlaVPSxhYlsUtzJdj+BTfLsTRewtKPhE0bPAnr3lF9o9C2waglv4LLBv3/lBzo9KAvoyE1egufDM1CK+m0pdjPo6vP9W88Wh0aVXfeA98fd+pbNv+rGeeP0muTGJJtLr071Bv+ZSsQqY3OAatpI8FKmyS2mjpb/Kp/1Pp8yk2+5NTSFtJrhOWeelc5MVu1djqtkHdaXPVErHkgd41QfS73GtBCJipB8plb4Tpc/0qe5w2hP1fBzzNWbxJ8zEgxREJblZyqyLx2NPi8fnWvEdX2MX01IlhGy1mV7ZlWPbkOincPfsFeTmyfUn0+Jlr7lSfD2e/qhN4bXgAMwWNOdJ5hS18FWX3Mch2W73chpkRp3cKRTV+H0zi9tT2gwnDWI11ZoBml9ua+OoWzH8mzRqf8dIr47kEWyZsuWEZTaRXvkqMMEtw578dcKQV8+Ma9ZJe1LZRFkTZjji2W3mlqXKZgo653NswKZ7je82heeS6UbB7dE91FRwnz7dnFX+8rfjqp77SghY7CSKCXzzG6e++7GrnHXM7598f/Mv4K0wWufQWFZwn//CR50B8ywwcwcsPksCP+rc6WpoqF/o08m4Bmmm8iXLFvRk9RpKXa1mIAWdGUNVen3F2kz7UejJyVojqHuLb3dBTP96QBzbha/lae/q4zC3i5adb3/TGGaY7SI7u1JPfvk/uM8CO3bF8w9+whHTrl4OL7gvPvvM9//wiGO33/3YVd/kWWCzO7k7vLOINb96T4ozN9wgpafteMVKrRItUbYkXqvX0CG3cVTV1czq1gPqHuPrwl+habcq4rgUzLa4XOxLNdpV5radR3AnRiB+FtidH3RM79kungVWYcMDC+4LTzz67O5bnTHzLLCu7h3UAwEIQAACEIAABAYkUPwssNve3smzwEYquMXPArv/xgHDQNMQgAAEIAABCEAAAp0Q+NbpO753035nHfP57p4FNj7Bvfjc83df5wyYZ4F1cjJRCQQgAAEIQAACEBicwFP33+iY3oUPveni1z9XYaUdHhpgi0LZs8CeOP/A4MGgAxCAAAQgAAEIQAACKxF44i+e+ZT78SofzwKrEOK+BfeFsw8+u3iLY/Q8C2yl06jks03UCQEIQAACEIAABHomUPwssOPbPp4FNhbBLX4W2Jf/Q8/oaQ4CEIAABCAAAQhAoHMCTz70iYIv4PX2LLDhBTd+FtjxbWfhlmeBdX5iUSEEIAABCEAAAhAYhEDBs8AWb3nh7IMVGurvUB9bFMqeBfb4E38xSABoFAIQgAAEIAABCECgKwLxs8Bu+yVnHfM5/88Cq/Bj74J78eufu/ChNzljfub2d37r6yf4gQAEIAABCEAAAhCYNIEnH/pEwbPA7r7upYvPVQio70M+BbfoWWCO6fISAhCAAAQgAAEIQGA+BHp8FliFJfsS3Be/++Rzt719PtE6dgVjgQAEZkng/K+97h/98A8+9sGfmuXoGBQEIACBPgk8u/vWF554tMI7ezvkRXALnwXWJ1/aggAEINCQwCNHXxtF0SNHX9swP9kgAAEIQKCQwPd7fxZYhS53L7gvnP/qc598Jz8QgAAEJkHgL2/8xSiK/vLGX5xEb+kkBCAAgXESeP4LH63Qzf4PdS+4/Y+BFiEAAQi0JnDmzJkois6cOdO6BgpCAAIQgMDYCCC4Y4sI/YEABHolgOD2ipvGIAABCPRCAMHtBTONQAACYyWA4I41MvQLAhCAQHsCCG57dpSEAARmQADBnUEQGQIEIAABhwCC6wDhJQQgEBYBBDeseDNaCEAgDAIIbhhxZpQQgEAJAQS3BAxvQwACEJgwAQR3wsGj6xCAwOoEENzVGVIDBCAAgbERQHDHFhH6AwEI9EoAwe0VN41BAAIQ6IUAgtsLZhqBAATGRODee++9xvw7fPhwFEWHDx82b1zz8tExdZa+QAACEIDA0gQQ3KWRUQACEJg6gXPnzu3Zsycq+rdnz55z585NfYD0HwIQgEDgBBDcwE8Ahg+BQAmohdu84r68lBsoEYYNAQhAYEYEENwZBZOhQAACjQkULuKyfNuYHxkhAAEIjJoAgjvq8NA5CEDAH4H8Ii7Lt/5oUzMEIACBPgkguH3Spi0IQGBEBJxFXJZvRxQbugIBCEBgNQII7mr8KA0BCEyZgFzEZfl2ypGk7xCAAAQyBBDcDA5eQAACQRGwi7gs3wYVdwYLAQjMngCCO/sQM0AIQKCKgH0OblUmjkEAAhCAwKQIILiTChedhcDcCbz47DMvnP9qZpQXn3vh7IPOz4vfPi/zvPjt806GF84++OKzz8g8LzzxqJsnaejcuXM/+qM/Gj/71nNDaWcaNJRmJgUBCEAAAssTQHCXZ0YJCEDAG4EXzj747O5b73zooU+fPq9+7nzooQvHrnB+Hv7Mb9oMnz59/uHP/KaT4cKxK+754l0yz7nfebuT56mbfl5luP72P/r06fM9NFQxonO/8/YXnnjUG1cqhgAEIBAWAQQ3rHgzWgiMnMALZx+8cOwK6a8nvv4f7/niXc6PNGDlpk6Ge75418lHTkvB/eMH7nfyfP5Ln5cZBmzoy3fefOHYFRcf/szIo0P3IAABCEyFAII7lUjRTwgEQSAvuNJB55q+54t3IbhBnN8MEgIQ6IsAgtsXadqBAAQaEEBwG0AiCwQgAAEI1BBAcGsAcRgCEOiTQJiC+8cP3H/ud95+8a//tE/UtAUBCEBgxgQQ3BkHl6FBYHoEwhRctfVietGixxCAAATGSgDBHWtk6BcEgiSA4AYZdgYNAQhAoGMCCG7HQKkOAhBYncBcP0xWPa7VuVEDBCAAAQgoAgguZwIEIDA6AtUiONejowsDHYIABCAwWQII7mRDR8chMF8Cc1XYsnGdfOT0PV+868XvPjnfkDIyCEAAAr0SQHB7xU1jEIBAEwJlIjjX93kObpOzgjwQgAAEmhNAcJuzIicEINATgbmKbNm4ENyeTiyagQAEgiGA4AYTagYKgSkQCPMpCgjuFM5N+ggBCEyJAII7pWjRVwjMnsAygnvfL14aRVH0qvfcV7Yy2un7973vPW99VdzgZb945/lOaz6P4M7+xGaAEIBAzwQQ3J6B0xwEIFBFYBXBXbznstg/r/x4t/YZ17ZQahtXj+BWxY9jEIAABMZBAMEdRxzoBQQgkBAYp+C+78roVVfuvG+xwwou5ykEIACBSRBAcCcRJjoJgVAItBVcvV1BLbHG/zXruAu9ryB+71VX7ixOq90FKv9b36eXZi/7RS2vaQVJKrsb4U5fgstjwkI5vxknBCDQFwEEty/StAMBCDQg0K3gvu9KR1ij6FLluI4QDyy4ak9FAzxkgQAEIACBRgQQ3EaYyAQBCPRD4MVvn3/+Cx+954t3NdhH637ILLcH9+Obsd/aVdiPJx9KUy+N4F66877mnxjztoKL4PZzdtEKBCAQDgEEN5xYM1IITIZAA7s9/+nTdYK7eGtu/TZ+Y3ORlk3SjR+JgOBO5gyioxCAQOgEENzQzwDGD4EREhhAcLW8OkpsV38TCUZwR3iu0CUIQAACRQQQ3CIqvAcBCAxKYCXB1btsz3+6ykf16m+6gjuo4P7xA/ef+523X/zrPx2UOo1DAAIQmA8BBHc+sWQkEJgNgXaC+2m5JyF5ikLBh8yit74vfpBCTnD10xWKtysU1aO2OhTnb9b/tCxf9DCbU5eBQAACIyGA4I4kEHQDAhCICazyIbNYW69Mvush/noz9XUP973vysuSh9favQcILmcaBCAAgfkTQHDnH2NGCIEJEVjmMWHpCuiyK6Zjy88K7oROUboKAQhMggCCO4kw0UkIhEIAwQ0l0owTAhCAgE8CCK5PutQNAQgsSQDBXRIY2SEAAQhAoIAAglsAhbcgAIGhCCC4Q5GnXQhAAAJzIoDgzimajAUCkycQpuCqPcGTDx4DgAAEIDAaAgjuaEJBRyAAgZdeQnA5CyAAAQhAYHUCCO7qDKkBAhDojMCLzz7zwtkH73zoIbWoedeDD9zzxbucH+cZCM7Re7541x8/cL/Mc/KR0/k8f/TVr8k8Y2ioM4hUBAEIQCB4Aghu8KcAACAwYtY2ruwAACAASURBVALfv/NXLxy7wvlx+uscvXDsiuc++U6ZR60KO9kuPvwZleepp5665JJLvnHrNU6GC8eukJW89NJL+QxLNaRqazIip11eQgACEIDAsgQQ3GWJkR8CEOiPwItPfuOFsw86P07zztH45ROPyjxqVdjJ9uJ3n1R5zpw5E0XRX/35PU6GF84+KCt5Kdk+4eZZpiFVW5MROe3yEgIQgAAEliWA4C5LjPwQgMCsCCjBPXPmzKxGxWAgAAEIhE0AwQ07/oweAsETQHCDPwUAAAEIzJAAgjvDoDIkCECgOQEEtzkrckIAAhCYCgEEdyqRop8QgIAXAgiuF6xUCgEIQGBQAgjuoPhpHAIQGJoAgjt0BGgfAhCAQPcEENzumVIjBCAwIQII7oSCRVchAAEINCSA4DYERTYIQGCeBBDcecaVUUEAAmETQHDDjj+jh0DwBBDc4E8BAEAAAjMkgODOMKgMCQIQqCZw7733XmP+HT58OIqiw4cPmzeueflodXGOQgACEIDAyAkguCMPEN2DAAS6J3Du3Lk9e/ZERf/27Nlz7ty57pukRghAAAIQ6JEAgtsjbJqCAARGQ0At3OYV9+Wl3NH0kY5AAAIQgEBLAghuS3AUgwAEJk2gcBGX5dtJx5TOQwACELAEEFyLggQEIBAWgfwiLsu3YZ0BjBYCEJgvAQR3vrFlZBCAQCUBZxGX5dtKWhyEAAQgMCUCCO6UokVfIQCBbgnIRVyWb7tlS20QgAAEBiSA4A4In6YhAIGBCdhFXJZvB44EzUMAAhDolACC2ylOKoNA2ARefPaZ57/w0Wn9/Lsr/2kURf/uyn86rW7ne/vC2QfDPvsYPQQgAIGUAIKbsiAFAQisSODFb5+/cOyKaf089sGf+pEf+tuPffCnptXtfG+f/8JHVwwfxSEAAQjMhgCCO5tQMhAIDE9gioJ74dgV9x/5ibwvTu4dBHf4C4AeQAACoyGA4I4mFHQEAtMnMFHBnZzLFnYYwZ3+BcQIIACBzggguJ2hpCIIQMAR3FOf/A1+vBJ4fHGllV0ElwsQAhCAgCWA4FoUJCAAgVUJOIJ73Zce5ccrgb/67V9CcFc9aykPAQjMkQCCO8eoMiYIDEQAwfWqs/nKEdyBznSahQAExk4AwR17hOgfBCZEAMHNO6jXdxDcCV0ddBUCEOiTAILbJ23agsDMCSC4XnU2XzmCO/MriuFBAAJtCSC4bclRDgIQyBFAcPMO6vUdBDd3DvIGBCAAgZgAgst5AAEIdEYAwfWqs/nKEdzOzl0qggAE5kUAwZ1XPBkNBAYlgODmHdTrOwjuoOc7jUMAAuMlgOCONzb0DAKTI4DgetXZfOUI7uSuEToMAQj0QwDB7YczrUAgCAIIbt5Bvb6D4AZxXTFICEBgeQII7vLMKAGB4AmcOXOmkAGC61Vn85UjuIXnIW9CAAIQQHA5ByAAgaUJXHPNNa985Stvuukmp+RkBfezP/vqKIqifddN7KvXEFznDOQlBCAAAUUAweVMgAAEliZwzTXXxD4YRY7mehLct71FtWb+++pL973js/nlzBXeWVFwP/u2d/zcWty7S3/293tVZAR36XOXAhCAQBgEENww4swoIdApASu4Sjmt5voRXG2fRm/1/9caOO5733FpnPstizr3XUFwr1Nqq3qF4HZ6nlEZBCAAgbYEENy25CgHgYAJOIKr5O6Vr3zlb/3mb1w4doX9qdPKhoud2j6N0RrfrdfWR3sQ3Le9JVp7y7vfdt27WcEN+IJg6BCAwOgIILijC0lXHbpw4cKP/MiP6MUu/geBvgj8N//ghx45+lrluF4F1/juo+99x8+tJTto1RDX3rJ475ceve5LxoPtwLUQ2+0E8Y6CfdeprQ5mBfcdi326KrEL4veVvNqKVCK7WKvzZN+Mu+H3hy0KXd0wqQcCEJgZAQR3ZgFNh3PhwoUf+7Ef+8xnPvM5/kGgawJXX321o3vq5dX/8oC12wvHruhI73KqGkXGYh+97kuLffmuxC6bK5UIrrudN/q5txXacFKn/swZgpveV0hBAAIQmAYBBHcacWrRy2uvvTaKomuvvbZFWYpAoJpAfovC1VdffebMmV734JotCu+9bvFe89EuvSfh1e9OFnFzWxSMquqF299f7Ht1VnBf/e63xVUZOTZN1Js6K7jVZwxHIQABCPRLAMHtl3dfrV24cOGSSy6JouiSSy65cOFCX83STigEpOAqtVUj9yq46Z6E634uWWA1+wF+/937Xp18mMwu5ZYJripojgptNVsUzGPCGm/eNTsQENxQzn3GCQEITIMAgjuNOC3bS7V8q6Z7FnGXpUf+WgJKcKXaqiL9CK7dlhBvITCLslZu44RRWNdT2wluYRPOE8EQ3NqThgwQgAAEeiSA4PYIu6+m7PKtmvJZxO0LfEDtfO5znyv8MrN+BPe9cgVXO6vaaWD2JDiCa15aGy7bomC/6CFjxghuQKc2Q4UABGZCAMGdSSDlMOTyLYu4kgxp3wS8Cm5mjdYu0xbapzVarcJJ0cJPnmU/ZFYsuJVPQsh9ai1uy9YjdkGYzQyVtS2bn6co+D6lqR8CEJgoAQR3ooEr7bazfKucgEXcUl4c6JSAH8F91JXI+JvM1LPAYmt8b/pVC5fue8e744cqWMH90md/9i16e+7aO9TXPaTvRK/OPSZs+T24bt+SSw7B7fS0ojIIQAACSxNAcJdGNvIC+eVb5bjsxB154ObRPU+Cu+y6Zjj5WcGdx4XDKCAAgc4JILidIx2ywsLlWxZxhwxJYG0juD27NYIb2BXGcCEAgaYEENympCaR7+GHH77G/Dt8+HAURYcPHzZvXPPy0UmMgk5OlwCCi+BO9+yl5xCAwJwIILhzimZmLGfOnImiqPCj7pl8vIBAdwQQXAS3u7OJmiAAAQi0J4Dgtmc38pII7sgDNMvuIbgI7ixPbAYFAQhMjgCCO7mQNe0wgtuUFPm6I4DgIrjdnU3UBAEIQKA9AQS3PbuRl0RwRx6gWXYPwUVwZ3liMygIQGByBBDcyYWsaYcR3KakyNcdAQQXwe3ubKImCEAAAu0JILjt2Y28JII78gDNsnsILoI7yxObQUEAApMjgOBOLmRNO4zgNiVFvu4IILgIbndnEzVBAAIQaE8AwW3PbuQlEdyRB2iW3UNwEdxZntgMCgIQmBwBBHdyIWvaYQS3KSnydUcAwUVwuzubqAkCEIBAewIIbnt2Iy+J4I48QLPsHoKL4M7yxGZQEIDA5AgguJMLWdMOI7hNSZGvOwKO4P6/dx3nxyuB/+/m/+3CsSvUz/Nf+Gh3kaQmCEAAAtMmgOBOO34VvUdwK+BwyBMBR3Cte5HogQCC6+msploIQGCKBBDcKUatUZ8R3EaYyNQpgRkI7vlfe90/+uEffOyDP9WDknbbBILb6blMZRCAwLQJILjTjl9F7xHcCjgc8kRgBoL7yNHXRlH0yNHXdmufPdSG4Ho6q6kWAhCYIgEEd4pRa9RnBLcRJjJ1SgDB7UFky5pAcDs9l6kMAhCYNgEEd9rxq+g9glsBh0MQKCPAhVNGhvchAAEITIgAgjuhYC3XVebp5XiRGwIJAS4cTgQIQAACMyCA4M4giMVDYJ4u5sK7EKgkwIVTiYeDEIAABKZBAMGdRpxa9JJ5ugU0ikCAC4dzAAIQgMAMCCC4Mwhi8RCYp4u58C4EKglw4VTi4SAEIACBaRBAcKcRpxa9ZJ5uAY0iEODC4RyAAAQgMAMCCO4Mglg8BObpYi68C4FKAlw4lXg4CAEIQGAaBBDcacSpRS+Zp1tAowgEuHA4ByAAAQjMgACCO4MgFg+BebqYC+9CoJIAF04lHg5CAAIQmAYBBHcacWrRS+bpFtDmWuSNt97DT0MCrzt2WxRFrzt2W8P8ZIMABCBQS2Cuk8uYx4Xgjjk6K/UNwV0J37wK1958yWAJILgWBQkIQKArAvOaUqYxGgR3GnFq0UsEtwW0uRbp6h4dQj0IbghRZowQ6JnAXCeXMY8LwR1zdFbqG4K7Er55Fe75Vj7p5hDcSYePzkNgnATmNaVMYzQI7jTi1KKXCG4LaHMtIu/4N//BnZ/71B38lBG45bd+O4qiW37rt8sy8D4EIACBWgK//4d/JG+8c51cxjwuBHfM0VmpbwjuSvjmVVjeZz/3qTvOnjjOTxmB+27+SBRF9938kbIMvA8BCECglsCDxz8jb7zzmlKmMRoEdxpxatFLBLcFtLkWkfdZBLd6ZkJwq/lwFAIQaEIAwR18PkVwBw+Brw4guL7ITrBeBLfJhKTyILjNWZETAhAoI4DgDj5VIriDh8BXBxBcX2QnWC+CWzYJ5d9HcPNMeAcCEFiWAII7+FSJ4A4eAl8dQHB9kZ1gvQhu9eR0+69f+8sH/6X6+dc/8+Yoiv71z7zZvnP7r19bXZyjEIAABBwCCO7gUyWCO3gIfHUAwfVFdoL1IrjO3OO8fOCWj//gK14RFf37wVe84oFbPu7k5yUEIACBagII7uBTJYI7eAh8dQDB9UV2gvUiuNVT0ctH1cJtXnH/9c+8ubYsGSAAAQg4BBDcwadKBHfwEPjqAILri+wE60Vwnbkn/7JwEZfl2zwo3oEABJoQQHAHnyoR3MFD4KsDCK4vshOsF8FtMiHlF3FZvm3CjTwQgECeAII7+FSJ4A4eAl8dQHB9kZ1gvQhufvrJv+Ms4rJ8m0fEOxCAQEMCCO7gUyWCO3gIfHUAwfVFdoL1IrgN5yS5iMvybUNoZIMABPIEENzBp0oEd/AQ+OoAguuL7ATrRXDz00/hO3YRN7Dl28X2evz5uoNHW3+H8+o1tG66m4K7mzGBja1F4YnBmxBYlgCCO/hUieAOHgJfHUBwfZGdYL0IbvPJyT4Ht3mRkeVc7G5tbiTCGivb+ub20VppW11PV6+hkaeeOrp1cN2OLYrW1w9u7Zw60ahsdZiygrtjjL8WXQdNV3eMoxMlgOAOPlUiuIOHwFcHEFxfZCdYL4LbfI584JaP//Df/TuTffatFs3s8842d2sUcHU9bVrDqa1ETzd3mkfE5Cwc2ooLz6meOoJ7MCF4sP53g7QG08/0nRUGm1aSr5Z3JkEAwR18qkRwBw+Brw4guL7ITrBeBHepGfHkDTcslX88mZWlJZsN9NJjsuQ5B8HVshjvIkiXbE8tdg6ur6+wsyL1yKzgpu+vElwEdxV6Uy+L4A4+VSK4g4fAVwcQXF9kJ1gvgjv1ybJZ/3fUumPZRtJTcutCFG1sWlN01l+TTQ56EXjdrGLqyq1NZo0wU0NJQ7klWLOOG+c3a84bm1tFWw5qhpbwUfVv7h5Vta1vL46X9ET562J3U+922Njc2s7swc0M5+yJpJ6CHpoWF1sHdU3rB/Uu3uLBnjq6ZXaP2JzdyHSzM4S2+iOA4A4+VSK4g4fAVwcQXF9kJ1gvghvE9L/YSjQxFrui8WpHNJ6W/F8rZsbn7DKwyakWgJsLbllDxc6Xay6K1nOOezTRz6h6Kdqpf317UdaTmE9Bu+mHzKqB2B46LWpgye8AuUObO2d1gAzXqCxSheHjzYkRQHAHnyoR3MFD4KsDCK4vshOsF8EtEr6JzZf1Q9AWWKpNp47unDLuq/96rlVS+JyRML1wG+8BWFZwj5c3dDz3V3vloLbP6tNd9qWJUVZw7XYFpYpmUdk45frWrh1m2ZDNMPVqt1Fhs/gtgJyo6KHTonmZrkxnNxyrUWiei+313DBrtkobGmSbAgEEd/CpEsEdPAS+OoDg+iI7wXoR3Ho7nMKUWTOKOsE9G/8lXf8pXa8i5gVXS1huDVV7XvoosYotCuUN5QRX99kuauqEcVajdDqbXsGtFtxM2bIhZyu0C7oFglvVQ+nBcVcdfXdenj2xY3YyRBvrm7sLHtFg4juDqy83BAR38KkSwR08BL46gOD6IjvBehHcGjXMTU6TzO+sSjqDMkczLulDcKsachXwbJU+CvsxdRoBVYf0DgRjtK5u5rYEJENXQx5GcI+fPZF5iJvpuRipEzVeTpYAgjv4VIngDh4CXx1AcH2RnWC9CO4khXX5qd3sK7WfDDuunjMQ78pVSqf/Pm5EMy+4RiVzWxS0PqZ/00/Wgo1xCrmsashp97hx0Po/1puhyaco1AluRU/yw0zst2A4OmdhD8Wok2A5S7b6pYYch8B+sE9/vs1sZgjk/AxqmAju4FMlgjt4CHx1AMH1RXaC9SK4ocysxtsyy7Tqw0yFh/KCe0JLm6hBbwywiikO2a/+EqpX1ZDxbFVFondF1RZ+mCzfMd0Rsw4q+qB+N6jqSXFtBYJb/HE01UO3RUdwM+vTmzuZl0nfTXOs4M6QAII7+FSJ4A4eAl8dQHB9kZ1gvQhuKIJ74vjZRfz0K/vULflNZqf087Pi7zc7uLUVP1OsQHDjP6Nvm+dnxV8Vln7ZQfp+/DCvZH3UKFpG9cobylS+saW+7iHb4dj8CgU3LhvXLHYRb2S+ySzTBxXxpj3Z3KkYTryvQCJNe+i26AquIJkMNn0wWRIC9uDO0GvtrQbBHXyqRHAHD4GvDiC4vshOsF4E1846JCAAAQj0QADBHXyqRHAHD4GvDiC4vshOsF4Et4f5jCYgAAEIWAII7uBTJYI7eAh8dQDB9UV2gvUiuHbWmXFC70jlf5MiMOMTMvChIbiDT5UI7uAh8NUBBNcX2QnWi+AGPtcyfAhAoGcCCO7gUyWCO3gIfHUAwfVFdoL1Irg9z200BwEIBE4AwR18qkRwBw+Brw4guL7ITrBeBDfwuZbhQwACPRNAcAefKhHcwUPgqwMIri+yE6wXwe15bqM5CEAgcAII7uBTJYI7eAh8dQDB9UV2gvUiuIHPtQwfAhDomQCCO/hUieAOHgJfHUBwfZGdYL0Ibs9zG81BAAKBE0BwB58qEdzBQ+CrAwiuL7ITrBfBDXyuZfgQgEDPBBDcwadKBHfwEPjqAILri+wE60Vwe57bmjeXfJfs+vZizt9Z2pwGOSEwGwII7uBTJYI7eAh8dQDB9UV2gvUiuGOcNRc72+vqOwkQXPweAnMjgOAOPlUiuIOHwFcHEFxfZCdYL4I7PsFd7G5u7i4WieMiuHOTm/GdbxDumwCCO/hUieAOHgJfHUBwfZGdYL0I7liFA8HtWzvGeibAYW4EENzBp0oEd/AQ+OoAguuL7ATrRXDHqjW+BXexu6l2QZj/rm/umv2+8fZfvUciiqJN9gGP9SSZm/kFwhnBHXyqRHAHD4GvDiC4vshOsF4Ed6xzqm/BPX5qK3bYja3F2RM6HW3uxDSOxua7sblz6sTxs4utjfWtOMEPBCDQEQEEd/CpEsEdPAS+OoDg+iI7wXoR3LGqWxvBVc5qlmQL/q90Vg05WcE1e3wTqVWCK8W3MZzF7tbmxvrW7tIGUFPw1Nb6xuaWXVpu3J+RGPkYR9cp0jEOcPwnCYI7+FSJ4A4eAl8dQHB9kZ1gvQjuWKfDnYPxAuv6waNLuZrS4ihXSm9IEIKrcm4mSpqV6cXWRuzG6wePxou7DX7i4htbyYpvo/y2zmYF41XkZTnYJgZMjHh03SAd8QCXOw/7PkkQ3MGnSgR38BD46gCC64vsBOtFcBsIXN/zX24hVmlos25oPc0X2TloNiTEQ9bZzCqv2IAb71g4upk4rt7AUIlIWY5U4bgh+0+r9lElzbE3mx29+YJ6gHr4ar+EMpW4t7ZgMw5+FCezcVlt3jCsokj+XjGS0akVVhuN9XTDSQnSqQ1wyJOh8rqo6hiCO/hUieAOHgJfHUBwfZGdYL0IbutZarQFCwQxsb3dTSGsYk+Cll0plKkB50U5O3PH9eTyqMqlT5+IhS9RQKPChQXjfuqcYrE5bjEe1Ch2A1t9t8KdG5rex5zD0vPozO8wZjt10nPBsATpdAbo53eYHq5rBHfwqRLBHTwEvjqA4PoiO8F6Edwe5rPem7DKlZVRIQRKgvXyqjIhoT5Jh1UlhZZmq03yOGYct2IkyR5KlFc4a1lBW3MuUbLi2Dtb84E8s6JsSBpxtxZrxy6wl/a2+9HlQnDieOY3HP07jNX0FLgakV1rH+sA0w6XUm1Cfog8CO7gUyWCO3gIfHUAwfVFdoL1IriTmx0bdVivoZbpqZJXJTeZ7bmpAynrrba0JE9uv29sHvov3VqaE9mSVZUVNEu/1q7EYOM+C0Ve0W8Wu5vrYhtG/FL9IX8j7qd4uZU8WUJqkCITPz9tRy1+u70afnSGf35xXQ4kWSx3O58u3o96gOLEWPFMGKA4gjv4VIngDh4CXx1AcH2RnU69Z86cufrqq8+cORO04C7UB7nsDkW7Q1T53+buYiv5pFfyiautxanFznZGg3JTo1UfWaVZ6ut5StaKKbXSyk3qkaqj6wf1R8RSsUufFGZL5RNxPQVLgOlzxxLBinviLA+XF8yacYZwfKhwOPmO1b1zaiv5CJ3isL6+kWxBtiuXG5vJo381pYIB6k5GsSInQpzpZ/KctYJSOe/PlOpwdOkG6zpcZY2OfYB18e35Wlu2OQR38KkSwR08BL46gOD6IjudetU5EEXRf/2/vPF1x25Tmvu5T92x7J16yvnV33Bjt4sfcaWVVC9qqg2jGU3NvShYuRyT4Np9AgX97MoPyj3VOtbBrbJNupUKWGRmsXU5orzaQKzRqs+9mZfms2LlgqseFRyfEUX9rBfcolIdjs4dSDml0kb12Ec6wCnfduLfahDcwadKBHfwEPjqAILri+x06rWCq7RNaW5Ygqtk1KiGWrIyLqhWcGOdSp7AarYzRuq7vsxRU3bZ6db6RwI/3kWQk+f6N5o0mjRU7JFNitfmSeov2wVhoRV0oLygLlXwd3O17aFIcFXsypEVdEANTRc0cdQvTROm2qIB2t9kTGbJqsPRmT6UDa54aKZU8VHZ1Thn0RDs7yeFRzscoOxMOGkEd/CpEsEdPAS+OoDg+iI7nXodwVXz5xtef8V9N38kmGkmv4JrhUArrPFdvaPRWlcywZcsbpWvllmwuriWliJ/alCJra08EQ/Q9rk8W+YP5ctlq1jBzX/OTA6qrKAWRxuITN9KbUzWvETakWnn9xbnpexJAlZv2S3q6sCjMz2v2YAbj6gE6cgHKGMxyTSCO/hUieAOHgJfHUBwJdkLFy78yq/8yjWB/Tt8+HDZotC/+Cf/JAzNtR6QkFhPtl1qPdKHlhZcu7CXgVvkQEt4WMspPHYXszZZqK2JZy/Rt+ThuNn8ZSYnPqhUbNglBY36F0t/7YgKh1n6pgmWjnLJy1z/Ey02Hy+z33WcaWXg0ZkTu3BpNnviFSEd/wBbXhGZGGU59HwIwZVT8CBpBHcQ7H00iuBKyk899dTf//t//yd/8id/OqR/P/7jP55xMPHiDf/zT5y84Yae7/gDNBdbSNkC5+QFNzHFYk20qGO5abDIF+df7JhNyVnBTaTQ/hpga44TCd6yj6Cpv4DnCyZdKvmjebIknNPNFVzH6WH1S/mbjxFH3ds8wxIsvY2uoKF4dPnzIVmp3co94Gz0A8ycaYOqarueILhyCh4kjeAOgr2PRhFcSfnaa6+Noujaa6+Vb84+XbhF4fKf2BeE2qoZUQtNqvbqo/TJjNVWcEcy15YIVrvJOHlm1ubuQjHJCq76UoaCdWKziFjyjAX9bQ5uQVMqXh/dObi5dUryjAfltL6C3boPMrNPtzUWmPpu/GSJ5FNoqnsmg/ruieT0yZl6knPA0SUnQPrbxSJZlDXamp4GLtLpDFCeGBNMI7iDz7AI7uAh8NUBBNeSvXDhwiWXXBJF0SWXXHLhwgX7/uwTjuBe8pqffO2v3hzWh8zsJtFUce2KpjYtKy5qScwuH+q/pLsGs5Jvpdqx6oRdaFdx3+Ju6z7rAZqXiQBlOMQv7PCF9OcUs2hp0CxtqhpTI8yMsajgWfO1txub6uN9KdK483lFa8/KIWAeHJs2YRat15MHip1Inyh38Giy5Jl5xlwjLD2OLv4qZvOEuzgKG3oUKc/cl8NNbYDtQ5+BkDkn+6oTwR18hkVwBw+Brw4guJasWr5V83BQi7hWcJXaBviYMMdZjXyU2FhfM9/q023p5gS1jGelPFmhzCps9cSvjDBncmVfFlBPLK7Q/s5QM3B3rbG6q2M4OvrRrYp09AOsPwMHO08QXDsFD5VAcIci771dBFchtsu3SnCDWsQ9c+bMm9/85gceeCDYL3rIrjKqU6DmU1k1ErbqhKq/Ucx0JYqSbx9QjcYf8NIf24+XmdVzWwv6o/+wntbhpKxQJh6ct9WKKb9McI+r/QYb+qsiKmrIH1KStJPZipDHuNhKFiDzxUf+zohH1w3SEQ8wfxaN6R0E17vl1DWA4NYRmuxxBFeFTi7fKg8IahFXQQhWcKPtaNt8WevL6SjS3+YVbUdWHJukbebVE4l06kVNldZbCBJt3dhMRDBWk+zm1HTmVg7qOG3mpRHcJGdazwpbFHTri/jLMta3dtPONLTPmoKnttbz2xVWR91XDWMcXadIxzjAvoLb8AwvyIbgDm5PCO7gIfDVAQT3pZdecpZvlQUEtYgbuOCeffnrFRKXXf2/XU2oyaKyWVVVa7HJjgIpvh21lRjt5s6po1uli8Guqqo9muvL7GoomNo76j81Q2DCBBBcX3LTuF4EtzGqqWVEcF966aX88m2Yi7jBruAq02qyRtskTxfeptZf1SZglTayaz4Urz/e5Kpni5ne2GrmEVGl9ejl5HQtePI7lbuIVykuKodANQEEd3BpQnAHD4GvDiC4hcu3YS7iBi641fNQr0e1xRqLFBtw4w+828cLNFPSXnvegXAjixAIiACC60tuGteL4DZGNbWMCO7DDz9sv7lMfafX4cOH7TsvH51aSNv3F8EdiwuKPQnqexDMM7zMxK8NmNVTAwSxhsA0CSC47WesjkoiuB2BHF81CK6MSeA0ENyRCK7aBqB3uCqXTT8EppROxX3GTgAAIABJREFU7mFA8iAAgakSQHDlFDxIGsEdBHsfjQaudA7iwGkguOMQXLnpVj8vTD3xYHfTPCxWWa99kO00167GQXuqYgS9eRBAcJ1ZuP+XCG7/zHtqMXClcygHTgPBHcWU6T6/Vj+zLPma3PT5t/pJYagtBCAwZQIIrjML9/8Swe2feU8tBq50DuXAaSC4oxDcKc/WAIQABJYigOA6s3D/LxHc/pn31GLgSudQDpwGgrvUzERmCEAAAisSQHCdWbj/lwhu/8x7ajFwpXMoB04DwV1xrqI4BCAAgaUIILjOLNz/SwS3f+Y9tRi40jmUA6eB4C41M5EZAhCAwIoEEFxnFu7/JYLbP/OeWgxc6RzKgdNAcFecqygOAQhAYCkCCK4zC/f/EsHtn3lPLQaudA7lwGkguEvNTJPInHztmfmaXz6+BgEIjIwAguvMwv2/RHD7Z95Ti4ErnUM5cBoI7iSctWknFzvb+qliCC4Pu4XASAkguM4s3P9LBLd/5j21GLjSOZQDp4HgNnXHkS0CFXV7sbu5ubuQ3xkx0gm+qPN0FQKhEEBwnVm4/5cIbv/Me2oxcKVzKAdOA8GdnWwhuKF40uxO3VACh+A6s3D/LxHc/pn31GLgSudQDpwGgjs7S/AtuPqbhCP7b31zd6HVJN7+m37z2ua2eX92kENRMQLngwCC68zC/b9EcPtn3lOLgSudQzlwGgiujwls0Dp9C+7xU1uxw25sLc6e0OlocycecvKFw/r7hBdbG+tbpyawrwNVhUDfBBBcZxbu/yWC2z/znloMXOkcyoHTQHAHlVEfM2sbwVXOatdk8wmls4rV7mYUReZDbInUKsGV4tuY6mJ3a3NjfWt3aRWuKXhqa31jc8suLTfuj4+ItKhzjKObONIWUfBVBMF1ZuH+XyK4/TPvqcXAlc6hHDgNBHdq6lM76e4cjBdY1w8erc0pMygtjnKl9IYEIbgq52aipFmZXmxtxGq8fvBovLjb4CcuvrG1s/xCb7OC8SryshyadNt3nhGPbqpIfYdsufoRXGcW7v8lgts/855aDFzpHMqB00BwG3jYcrPXgBXmFmKVhjbrv9bTfJGdg2ZDQjw0nc0s8ooNuPGOhaObiePqDQyVKJTGSRWOG7L/tGofVdIs1oxP5AvqAerhq/0SyrDj3prF5kbO3YzV8lUly95mcGrzhmEVRfL3ipGMTi0hmw5H6+mGk9EgrTy7fMWxk0YRXGcW7v8lgts/855aDFzpHMqB00BwO5mx5lFJgSAmJre7KYRV7EnQsiuFMjXgvChnnSOuJ5dHVS59OtHZRAGNChcWjPsZq6HdHGwjEg9qFLuBrb5b4dYdzix4j2F05ncYs5066blgOBqk2TNq+d867EnScwLBdWbh/l8iuP0z76nFwJXOoRw4DQS357lt3M1Z5SpVByXBenlVmZBQn2R0qpKcvGb8I8njmHGcwVigPZQor7tBwh7N1FnS59GsOOrfH8yKsiFpxD0eSxmWkqHpXyesMZdnawJK58mF4MTxzG84XhrtpOeTqQTBdWbh/l8iuP0z76nFwJXOoRw4DQR33MbZ+5yt11DL9FTJqzKqzPbc1IGU9VY7aJInt983Hqz+U76W5kS2ZFVlBXW35U4Giy7us1Bk+367xGJ3c11sw4hfqj/kb8T9FC+3kidLSLNUZKIo/kxeknZ7NfzoDP/84rocSPkuEa6mJgQQXGcW7v8lgts/855aDFzpHMqB00Bwm0xIbp6F+iCX3aFovUr53+buYiv5pFfyiautxanFznZGg3JqZdVHVmmW+tzWM6qRq2rlo1oxpVbaOlOPVB1dP6g/IpaKXbxJYLPuc2NxPcXrjmaZMzbsuCfO8nB5wawZZ7DEhwqHY8fVOHFqK/kIneKwvr6RbEE2fV7f2Ewe/aspFQxQdzKKFTkR4kw/k+esFZTKeX+mVIejSzdY1+HqstHG8Hu+EPw1h+A6s3D/LxHc/pn31GLgSudQDpwGgrv8NKb+hhu7XfyIK62kelFTbQPNaGruRcHK5ZgE1+4TKOhnVy5S7qnWsQ5ulW3SrVTAIjOLbcwR5dUGYo1WfZOFeWk+K1YuuOpRwfEZUdTPesEtKtXh6NyBlFPqsNHlL8CM30+xOILrzML9v0Rw+2feU4uBK51DOXAaCO7SE6SSUaMa8UyffgpereDGOpU8gdVsZ4zUd32Zo6bssk1b/0icOV7jzMlz/RtNGk0aKvbIJsVr8yT1l+2CsNAKOlBeUJdy/+ifKFqZjanYlSMr6IAami5o4qhfGoc21RYN0P4mYzJLVh2OzvShbHDFQzOlio/KrsY5i4Yg85AuI4DgOrNw/y8R3P6Z99Ri4ErnUA6cBoJbNgmVv59fwbVCoBXWrn0qY7DWlRhMyepd+WqZ7YkurqWlyJ8aVGJrK0/EA7R9Ls+2wkJaxQpu/nNmclBlBbU42kBk+ta1jTky7fze4ryUPUnA6i27RV0deHSm5zUbcOMRdY1UUpp/GsF1ZuH+XyK4/TPvqcXAlc6hHDgNBHd5gbMekJjmerLtUkuYPrS04NqFvcyKW5EDSdvzk47dxaxNFsJJPHuJviUPx83mLzO59CljJYZdUtCof7H0146ocJilb5pg6SiXvMz9hpBosfl4Wf5xZnFzA4/OnNgNlmY7RurnTC6N4NDNIbjOLNz/SwS3f+Y9tRi40jmUA6eB4C49C8YWUqJf5lGs0xXcxBSLNdGCiuWmwSJfnH+xYzYlZwU3kUJLydYcJxK8ZR9BUzt08wWTLpX90bzrBWmnh9UvtUsl7mjEUfc2z7AES2+jK2goHl3+fOga6dDGmTkD/XcGwXVm4f5fIrj9M++pxcCVzqEcOA0Ed+m5TQtNutaqPkqf1NN2Bdf/nNpomCWC1ahswRAWu5ubuwvFJCu4pQ98NYuIJc9YKHlSrCkVr4/uHNzcynz3bzwop/WV/gjuWKC7eJz6bvxkieRTaKp7qSaaIuZDaSm6JKe7fN7j6JITIP3tYpGsOhsvT0+DrpGmNacoVorRyCtEcJ1ZuP+XCG7/zHtqMXClcygHTgPBXX4uTGb91G9VSumLdhG7xKhkyP61WpuNazAjmcsL7SruW9xt3WchW7GLFKJwvE0VySlm0dKgdkfNNjXCTIyKCp41X3u7sak+3pcijTufV7T2IuUQMA+OTZswi9bryQPFTqRPlNPfWJZ5xlwjLD2OLv4qZvOEuzgMG3oUKU99PqTjzRzKRKo95JnXieA6s3D/LxHc/pn31GLgSudQDpwGgrvslOw4q5GPEhubzhyfyHfRKNQynpXyZIXSGnwDeiWC2/7LAuIK7e8MNR2Y3lrj6Ec3PaSj02UE15mF+3+J4PbPvKcWA1c6h3LgNBDcGkPKGWp2ldEs5Fr/y+Vftv7l8+tvFDNdiaLk2wdUPfEHvPTH9uONs+q5rQVN6D+sp3U4KSuUiQfn1h2rRl0muPqbaTf0V0UsZSHKAuu+TmKxlSxALlXzGDKPeHRTRTqGsKZ9QHCdWbj/lwhu/8x7ajFwpXMoB04DwS2wvSpdOx5tR9vmy1pfTkeR/javaDuyVTVJ28yrJxLp1IuaKq13FCTaqr9XLFaT7ObUdJjKQR2nzbw0gpvkTOtZYYuCbn0Rf1nG+tZu2pnUAyrJ1BQ8tbWe365QWWHDdvvJNsbRTRxpP4Fr1AqC68zC/b9EcPtn3lOLgSudQzlwGghuC+lR/rr6f1s0XVgkWVQ2q6pqLTZZUZbiW1hw+TcTo93cOXV0q3Qx2FVVtQl1fZldDY0sYfnOUy0ERkEAwXVm4f5fIrj9M++pxcCVzqEcOA0Et50nNVmjbZKnXevZUmr9VX7Kzciu+VC8/niTq54tJntjq1uLbB+Kq9LLyelacNEe3w56Vdx6kx6SBwL9E0BwnVm4/5cIbv/Me2oxcKVzKAdOA8Htf3rruEVtscYixQbc+APv9vECzZS0474hrxCAQI4AguvMwv2/RHD7Z95Ti4ErnUM5cBoI7uSVTuxJUN+DYB7pZdY1tQGzemqA5IRj8ucAI5oUAQTXmYX7f4ng9s+8pxYDVzqHcuA0ENypy43aBqB3uCqXTT8EppRO7mFA8iAAgYEJILjOLNz/SwS3f+Y9tRi40jmUA6eB4E5ccJW8qk23+nlh6okHu5vmYbHKeod8kNnAPjHxEENvbgQQXGcW7v8lgts/855aDFzpHMqB00Bwp20/7vNr9TPLzp6IvyfWbMuN9JPCJvVn3GnHBdQQKCeA4DqzcP8vEdz+mffUYuBK51AOnAaC21qkHr711n/49/7eA7d8vHUNFIQABAIkgOA6s3D/LxHc/pn31GLgSudQDpwGgtt6fr3v5o9EUXTfzR9pXQMFIQCBAAkguM4s3P9LBLd/5j21GLjSOZQDp4Hgtp5fEdzW6CgIgZAJILjOLNz/SwS3f+Y9tRi40jmUA6eB4LaeaBHc1ugoCIGQCSC4zizc/0sEt3/mPbUYuNI5lAOngeC2nmgR3NboKAiBkAkguM4s3P9LBLd/5j21GLjSOZQDp4Hgtp5oEdzW6CgIgZAJILjOLNz/SwS3f+Y9tRi40jmUA6eB4LaeaBHc1ugoCIGQCSC4zizc/0sEt3/mPbUYuNI5lAOngeC2nmgR3NboKAiBkAkguM4s3P9LBLd/5j21GLjSOZQDpyEFl/RSBF537LYoil537LalSpEZAhCAgCTgTEm87IEAgtsD5GGaCFzpHOiB05D3WdJLEUBwl8JFZghAoJCAMyXxsgcCCG4PkIdpInClc6AHTqPwhsubZQT2vf/G/+Ff/IL6WXvTgSiK1t50wL6z7/03lhXkfQhAAAKFBJwpiZc9EEBwe4A8TBOBK50DPXAahTdc3iwj8PoP3/63fuAVUdG/v/UDr3j9h28vK8j7EIAABAoJOFMSL3sggOD2AHmYJgJXOgd64DS+/PjT/CxF4ODWoSK/jQ5uHVqqHjJDAAIQ+PLjTztTEi97IIDg9gB5mCYCVzoHOjQcILysJnDu3Lk9e/Y4jrtnz55z585VF+QoBCAAAQiMgQCCO4YoeOkDSiexQkPSIN2EwOHDhx3BPXz4cJOC5IEABCAAgcEJILiDh8BXB1A6SRYakgbpJgScRVyWb5tAIw8EIACBkRBAcEcSiO67gdJJptCQNEg3JCAXcVm+bQiNbBCAAATGQADBHUMUvPQBpZNYoSFpkG5IwC7isnzbkBjZIAABCIyEAII7kkB03w2UTjKFhqTxne8/z+eaGxJQj1Pg4QkNcS2b7fRT35FnJmkIQAACXRFAcLsiObp6UDoZEmhIGl9+/OnCJzXyZp7A6z98+w/8nb/Ls2/zZDp55113f0WemaQhAAEIdEUAwe2K5OjqQelkSKAhaSC4S8nZa3/15qXyk7k5AQRXXpikIQCBDgkguB3CHFdVKJ2MBzQkDQS3uYGR0ysBBFdemKQhAIEOCSC4HcIcV1UonYwHNCQNBNertFF5cwIIrrwwSUMAAh0SQHA7hDmuqlA6GQ9oSBpScN/6u3d97Ybr+YFAbwSu+8ht1oARXHlhkoYABDokgOB2CHNcVaF0Mh7QkDQQ3N5kjobyBBBceTGShgAEPBFAcD2BHb5alE7GABqSBoKbty7e6Y0AgisvRtIQgIAnAgiuJ7DDV4vSyRhAQ9JAcHuTORrKE0Bw5cVIGgIQ8EQAwfUEdvhqUToZA2hIGghu3rp4pzcCCK68GElDAAKeCCC4nsAOXy1KJ2MADUkDwe1N5mgoTwDBlRcjaQhAwBMBBNcT2OGrRelkDKAhaSC4eevind4IILjyYiQNAQh4IoDgegI7fLUonYwBNCQNBLc3maOhPAEEV16MpCEAAU8EEFxPYIevFqWTMYCGpIHg5q2Ld3ojgODKi5E0BCDgiQCC6wns8NWidDIG0JA0ENzeZI6G8gQQXHkxkoYABDwRQHA9gR2+WpROxgAakgaCm7cu3umNAIIrL0bSEICAJwIIrieww1eL0skYQEPSQHB7kzkayhNAcOXFSBoCEPBEAMH1BHb4alE6GQNoSBojE9ztI2tRFEUHDl2fl6Fm76xeQ+umZ1nQL08EV16MpCEAAU8EEFxPYIevFqWTMYCGpOFTcLdv3L9vbyKssbSu7TtyaLtOUlfXqdVrqPXU7RsvX9sbDyke1d7LD528obbIKhn0iPbur6W3SitlZf3yRHDlxUgaAhDwRADB9QR2+GpROhkDaEga3gRXi5H2QP2/fTfWuODqOtW0hpP7E/W+/FCdczvmVzAuu97ctk6nCeelbrEfwc0NoSnPJTHqMSK48mIkDQEIeCKA4HoCO3y1KJ2MATQkDU+Ce+PlWmkPmFXbk4f2H1ibvuBu70/WbteObCeKtn3oyOVrCG47u/3aDdcjuPJiJA0BCHgigOB6Ajt8tSidjAE0JA0/gnvoQOK3ZYuOJ+XWhSgSf+V31guTTQ5aldeMK+vKrVYqmTZtZWooaUjn0RVHUWTWceP85t29l+8v2HugBTcynbGrrcvWqfLvu3H70AGzi2Ov6UbWF3XNZoC2xThR0mFb+X5T+doBucNBNGqGu3Zku3AI+s0D+20/s1XVLMlnepsdV3wIwZUXI2kIQMATAQTXE9jhq0XpZAygIWl4EVxnmdN1IG2oRq2S/2u3MzqVfMjMLgObnGoBuLngljVUaHLX55qLorW844qymV3F4n3V3WRE5XXm8ieliixW58wfWrZy8yuBwrJ2YP+heJO0hlsjuCYE+v+mqhp/zRut8w6CKy9G0hCAgCcCCK4nsMNXi9LJGEBD0vAiuIf2JR5k/o7vCu71Jw8dOqn+xB+vQSYLmFoltczF/uSslcaLjssKbkVDpt100VRrn957cMOh5HkOhUPYPnK5WXRNPjxnNxbnNrBW1GkEV39GzbwsV+qc4DaofG3/jTFnU7karAJrBq4s2QprbgimbGFVucg6/lr7EsGVFyNpCEDAEwEE1xPY4atF6WQMoCFpDCK4X9vef2BNOGKsiWqtVOtU7FvKkguET4ld+igxpWjG/0QNN8SWXNJQTnC1lDsrlWkrrqttx89S0LlNJ107rKoz288bzHij/DZlndMM0CyaLlN5tmPajMUKburx2ZypHJcbsOlPK9lFcOXFSBoCEPBEAMH1BHb4alE6GQNoSBpeBNcsvrpOphzIHM24pA/BrWpoZcFVY9GWqa3UtcNlHFQLfR+Cq43Z2Pk+s2gdq6o7BLP6i+DKq4Y0BCAwLQII7rTitURvUToJCxqShhfBvcHuZ7WfDLv+ZLzHIFkpVNpnnqigjSovuEZP9ce50i0K2RVN83kpI9NiZbSqIWNyZvHV7IhI1zLdJVtjtHsvV3/3j1c3b8zsr1iqTmOZrbcoaD6FHRYQkm5ntDXBYnC566/ZcLCCK68V0hCAwFQJILhTjVxtv1E6iQgakoYnwTW+mFmljaLExoy5Zo7lBdesHYpseqG04MNVUWSMTbhdVUN2S0BSfdkHwnLrqdr/RJ8y37sml2xr6jSCW1aV8un4vwU51WCLOChEAkKJ4Mpm967tS7bqJrLrDqGyqrSTrigX/3qQy88WBXkxkoYABDwRQHA9gR2+WpROxgAakoYvwY33v8pv/Mp8k9nJQ+mH9w/s3x8/U6xAcBO3S/e5povBsfOZ9+OHeWWWJDNCVt5QpvK9+9XXPWQ7HDtgwY5Y8TVmmUElSic6VlOn6WeDx2/lRdbafKYzaYdN5eYbjzMruDfoTczSccVInSFUV9XSa63+IrjyYiQNAQh4IoDgegI7fLUonYwBNCQNj4KbW66zWkPCrsvava29Mcl+Ji9eyU6eFJZX+VXltcmIEFx5MZKGAAQ8EUBwPYEdvlqUTsYAGpIGgtvEwzzkcVdGPTRRbKj59eB4Kdc8Nay3bqiGEFx5MZKGAAQ8EUBwPYEdvlqUTsYAGpKGD8HN/u2bV7MlsLoNI7jyYiQNAQh4IoDgegI7fLUonYwBNCQNH4K7uvdQQyAEEFx5MZKGAAQ8EUBwPYEdvlqUTsYAGpIGghuISo5zmAiuvBhJQwACnggguJ7ADl8tSidjAA1JA8Edp/kF0isEV16MpCEAAU8EEFxPYIevFqWTMYCGpIHgBqKS4xwmgisvRtIQgIAnAgiuJ7DDV4vSyRhAQ9JAcMdpfoH0CsGVFyNpCEDAEwEE1xPY4atF6WQMoCFpILiBqOQ4h4ngyouRNAQg4IkAgusJ7PDVonQyBtCQNBDccZpfIL1CcOXFSBoCEPBEAMH1BHb4alE6GQNoSBoIbiAqOc5hIrjyYiQNAQh4IoDgegI7fLUonYwBNCQNBHec5hdIrxBceTGShgAEPBFAcD2BHb5alE7GABqSBoIbiEqOc5gIrrwYSUMAAp4IILiewA5fLUonYwANSQPBHaf5BdIrBFdejKQhAAFPBBBcT2CHrxalkzGAhqSB4I5LJQ/ti6LowKHrx9WrG3z1B8GVFyNpCEDAEwEE1xPY4atF6WQMoCFpTFBwt4+sRfG/yw/NygIP7dt7+aGT2/v3RmtHtrdvvHztSACai+DKi5E0BCDgiQCC6wns8NWidDIG0JA0pie4sQKqf2tHtn2tLPauzts3Xp4Mam1tb7S2NzH4vfvnZfBFy8AIrrwYSUMAAp4IILiewA5fLUonYwANSWNygqtFUCnuuBdxT+5PRLV5J7cPHVCL02v7bpyPu1f9EoLgyouRNAQg4IkAgusJ7PDVonQyBtCQNCYmuNv7966t7b18v96lEP81v8qfel+IzXRmGcFlBfeed939FXlmkoYABCDQFQEEtyuSo6sHpZMhgYakMS3BTZZvY6nV7ujuxFXbc/fduL1fL4VGawf2b5/cPnTkcrU0Gu0tXE9Ntz3o3Q9qu0BDez65f5/ZNRHtvXz/yfhv8WajsK0vaTfOqTsSH4g33do/3Of24KYfNbMru7Y2bfZtx2sbHTrBCq68GElDAAKeCCC4nsAOXy1KJ2MADUljUoJ76MDa2t41ZZCHDmjb23djamk5rUyNME2l4mgLriC4mS0TqpG4h7mexIJr+5x2xv2oXMFTFFSptQP7D92YmrRaus61Iiq2yYLx2oEPnUBw5cVIGgIQ8EQAwfUEdvhqUToZA2hIGhMSXLVqa3XNmuXe/dtmK4IRvrX9yR5WK5RqS6s5WriI20D10mXjWB6VWGv7NGu9h5K9E3rjRH6LwslDh06aPRX6qPb1zN4GM5zkTSXfps9q1AaCGZGf8Wa60YBPi/wIrrwYSUMAAp4IILiewA5fLUonYwANSWM6gpt8AGtNrNemy672TS18xv+uVzpoDThvnEs5WYHgJguudq3UJlQHCpqL906IPQpRFNUKrl73lSu4duex3/EuBaddZgRXXoykIQABTwQQXE9gh68WpZMxgIakMRXBVbJoVTXRKbN+GUXm/bbCl7qyddTYPc26bPny6lKCW9hKveCmw4w7t7ZP9KrteP0sx7ZwXARXXoykIQABTwQQXE9gh68WpZMxgIakMRHBVSZnV2qNcVq/1JrYVvgK1bOJ4OqCxSqsV3CtwqremkVo92iZdCaljMGbgevMbcdb1lbv7yO48mIkDQEIeCKA4HoCO3y1KJ2MATQkjWkIrlZD9fEyKXna8MzX2w4gfHYrsFj7NSJu/Vs97aFQo63+lsmlrCRpY2/6lNwBxttimbaiCIIrL0bSEICAJwIIrieww1eL0skYQEPSmILgphYrJDKXjE1xEOGLv1bXPiYs6ZYR3Bu208eTJV9LdvKQfaDY2oH9++MHQdQKbuGzF/RH3AYZr/wFY9U0gisvRtIQgIAnAgiuJ7DDV4vSyRhAQ9KYguCualEVK4jjP+R8Tu5rWpGtQ08bDoIrL0bSEICAJwIIrieww1eL0skYQEPSQHBH7rhFWyAi9+m5ZdsbRv8+gisvRtIQgIAnAgiuJ7DDV4vSyRhAQ9JAcEcuuPGXomW2QMTPC0u//2z0CluNF8GVFyNpCEDAEwEE1xPY4atF6WQMoCFpILjVBsZRrwQQXHkxkoYABDwRQHA9gR2+WpROxgAakgaC61XgqLyaAIIrL0bSEICAJwIIrieww1eL0skYQEPSQHCrDYyjXgkguPJiJA0BCHgigOB6Ajt8tSidjAE0JA0E16vAUXk1AQRXXoykIQABTwQQXE9gh68WpZMxgIakgeBWGxhHvRJAcOXFSBoCEPBEAMH1BHb4alE6GQNoSBoIrleBo/JqAgiuvBhJQwACnggguJ7ADl8tSidjAA1JA8GtNjCOeiWA4MqLkTQEIOCJAILrCezw1aJ0MgbQkDQQXK8CR+XVBBBceTGShgAEPBFAcD2BHb5alE7GABqSBoJbbWAc9UoAwZUXI2kIQMATAQTXE9jhq0XpZAygIWkguF4FjsqrCSC48mIkDQEIeCKA4HoCO3y1KJ2MATQkDQS32sA46pUAgisvRtIQgIAnAgiuJ7DDV4vSyRhAQ9JAcL0KHJVXE0Bw5cVIGgIQ8EQAwfUEdvhqUToZA2hIGghutYH1ffTQviiKDhy6vu92bximRQRXXoykIQABTwQQXE9gh68WpZMxgIakMRfB3T6yFsX/Lj80VTU8tG/v5YdObu/fG60d2d6+8fK1IwFoLoIrL0bSEICAJwIIrieww1eL0skYQEPSmIngxl6o/q0d2R5mMXI1sd6+8fKk/2tre6O1vYms790/WVlvvB6M4MqLkTQEIOCJAILrCezw1aJ0MgbQkDTmIbjaDpXijmYR9+T+RFSb92f70AG1Dr2278ZJavrSv1oguPJiJA0BCHgigOB6Ajt8tSidjAE0JI05CO72/r1ra3sv3693KcR/4l/atFZbfy1ubhnBZQX3nnfd/RV5ZpKGAAQg0BUBBLcrkqOrB6WTIYGGpDEDwU2Wb2Op1UJZsBN3+8b9++wehgOHtl2dTXc46I0OartAQ1E+mVYe7b18/8n4D/Rrbt9EAAAgAElEQVRmT7CtL1nHjXOqNdrk/XjTrf1rfm4PbvpRM7uya2tLJb5uaLb+USZYwZUXI2kIQMATAQTXE9jhq0XpZAygIWlMX3APHVhb27umtPLQAa2A+24UPpfZwBBnyByNZXcFwc1VHkVxZwoF13YvFVX3U3EFT1FQpdYO7D8kNV3Jd6713NAEB1frR3AIwZUXI2kIQMATAQTXE9jhq0XpZAygIWlMXXDVqq1d7LTCt3e/WaY18qoXbuPV0JYWmK4Qp5as7dOs9R5KtknoPRL5LQonDx06abZP6KNazYs3OaTybTbyqgHq8XY3tKHcF8GVFyNpCEDAEwEE1xPY4atF6WQMoCFpTFxwk09lSWE1zpcu0yZrosmqarlENlvLLBBcVblYkFVJJaB5wf3a9v4Da2KPQqSWe6s7ll/BNZuMuxsagisvCtIQgMDMCCC4MwtoOhyULmXx0kvQkDQmLbjKINPF2thT070B+v0mFphqsXRV45EV+ruU4Ba2UruCK0YUd25tn1ktvv5rTYZW0fkRHGIFV16MpCEAAU8EEFxPYIevFqWTMYCGpDFlwVUum9tvYKVTuaPRyqotCiaP1Nso/SBX+QqrLliswu4mBO2jusPu0TLdTEplJd70x3S7amhl1Y7jfQRXXoykIQABTwQQXE9gh68WpZMxgIakMWHBLV2/TBdxk60C6UvjrzknXsH27K5fU7n4EJtVbfVgB+OjImeDLQqykqTk3vQpuX6H1sO+BQRXXoykIQABTwQQXE9gh68WpZMxgIakMVnBzbtdxhv1C70BYPvI5Wbn69pawWPCVhDcr90Qf62ueQaZatYKdNqu+lqyk4fE08r274+f+VC/RaHo2QvpgyDSJqLuh2aWilfiU1UJgisvRtIQgIAnAgiuJ7DDV4vSyRhAQ9KYrOBWaVMPS4+9NaFWiNMtClqRrUNPmwOCKy9G0hCAgCcCCK4nsMNXi9LJGEBD0kBwe1NVGsoTQHDlxUgaAhDwRADB9QR2+GpROhkDaEgaCG7euninNwIIrrwYSUMAAp4IILiewA5fLUonYwANSQPB7U3maChPAMGVFyNpCEDAEwEE1xPY4atF6WQMoCFpILh56+Kd3ggguPJiJA0BCHgigOB6Ajt8tSidjAE0JA0EtzeZo6E8AQRXXoykIQABTwQQXE9gh68WpZMxgIakgeDmrYt3eiOA4MqLkTQEIOCJAILrCezw1aJ0MgbQkDSk4L751lP/7uMn+YFAbwTe+rt3vfHWe9TPu+7+ijwzSUMAAhDoigCC2xXJ0dWD0smQQEPSkIJrVYMEBPongODKC5M0BCDQIQEEt0OY46oKpZPxgIakgeC2Nrkrbj75gz/6D17/4dtb10BBSQDBlRcmaQhAoEMCCG6HMMdVFUon4wENSQPBlY61VPp1x26Louh1x25bqhSZywgguPLCJA0BCHRIAMHtEOa4qkLpZDygIWmc/+6zH/vKN/hpQeDXT94TRdGvn7ynRVmK5Anc8djfyDOTNAQgAIGuCCC4XZEcXT0onQwJNCQN0q0JcCK1RkdBCEAAAn0SQHD7pN1rW8zEEjc0JA3SrQlwIrVGR0EIQAACfRJAcPuk3WtbzMQSNzQkDdKtCXAitUZHQQhAAAJ9EkBw+6Tda1vMxBI3NCQN0q0JcCK1RkdBCEAAAn0SQHD7pN1rW8zEEjc0JA3SrQlwIrVGR0EIQAACfRJAcPuk3WtbzMQSNzQkDdKtCXAitUZHQQhAAAJ9EkBw+6Tda1vMxBI3NCQN0q0JcCK1RkdBCEAAAn0SQHD7pN1rW8zEEjc0JA3SSxG49957rzH/Dh8+HEXR4cOHzRvXvHx0qdrIDAEIQAACPRBAcHuAPEwTKJ3kDg1Jg/RSBM6dO7dnz56o6N+ePXvOnTu3VG1khgAEIACBHggguD1AHqYJlE5yh4akQXpZAmrhNq+4Ly/lLlsV+SEAAQhAoAcCCG4PkIdpAqWT3KEhaZBelkDhIi7Lt8tiJD8EIACB3ggguL2h7rshlE4Sh4akQboFgfwiLsu3LTBSBAIQgEA/BBDcfjgP0ApKJ6FDQ9Ig3YKAs4jL8m0LhhSBAAQg0BsBBLc31H03hNJJ4tCQNEi3IyAXcVm+bceQUhCAAAT6IYDg9sN5gFZQOgkdGpIG6XYE7CIuy7ftAFIKAhCAQG8EENzeUPfdEEoniQdF447H/uZdd3+FHx8E/vE/vyqKon/8z6/yUTl1rkjg9FPfkVc9aQhAIGQCCO5sox+U0tVGMSgaH/vKN9546z38+CDw+g/f/gN/5+++/sO3+6icOlck8OXHn669FZABAhAIhACCO9tAB6V0tVEMigaCu6InVRd/7a/eXJ2Bo0MRQHBr74RkgEA4BBDc2cY6KKWrjWJQNBDcoQSLdoclgODW3gnJAIFwCCC4s411UEpXG8WgaEjB/Vef+Pz/8wd38gOBuRLYf9spa9UIbu2dkAwQCIcAgjvbWAeldLVRDIqGFNz/4/f+5OyJ4/xAYK4E/tUnPo/g1t4AyQCBAAkguLMNelBKVxvFoGgguHOVOcaVJ4Dg1t79yACBMAkguLONe1BKVxvFoGgguHkN4p25EkBwa+9+ZIBAmAQQ3NnGPSilq41iUDQQ3LnKHOPKE0Bwa+9+ZIBAmAQQ3NnGPSilq41iUDQQ3LwG8c5cCSC4tXc/MkAgTAII7mzjHpTS1UYxKBoI7lxljnHlCSC4tXc/MkAgTAII7mzjHpTS1UYxKBoIbl6DeGeuBBDc2rsfGSAQJgEEd7ZxD0rpaqMYFA0Ed64yx7jyBBDc2rsfGSAQJgEEd7ZxD0rpaqMYFA0EN69BvDNXAghu7d2PDBAIkwCCO9u4B6V0tVEMigaCO1eZY1x5Aghu7d2PDBAIkwCCO9u4B6V0tVEMigaCm9cg3pkrAQS39u5HBgiESQDBnW3cg1K62igGRWMqgru7GUVRtLG1mKJ7Ne78Yns9HubBo3xhshcCCG7t3Y8MEAiTAII727gHpXS1UQyKhh/B1aKW9dHCN5t6TGNHbFphn6LcuPMIrt/wIbi1dz8yQCBMAgjubOMelNLVRjEoGvMT3FNbySro5k6fClvdVmiCO8IQqAAhuLV3PzJAIEwCCO5s4x6U0tVGMSgaCG61m3ZyFMHtBOPqlSC4tXc/MkAgTAII7mzjHpTS1UYxKBrDCa76c/zm7mLnYLLkGm+xzSy7LnY39YGNza3t7B7cU1ubG6aUKnjqxPGzJ/Sf+ON9rOqfqTDOb97b2NxKMjt/Dbf92TL9WT+4tTi12NlOu5FZFc70YX394FG5P7iq82dPHC/pT9kWBdu3YlaZniQYzQBNwaNq+Ovbi6TpAnSW3ubuYhkCLlU9BPN2FNWEoKiHR7dMcOMQrO61tgYEt/buRwYIhEkAwZ1t3INSutooBkVjaMFNRUil7LZdterpHDZHdw46ByIlUsV2VVDVet5xc2XzTYiPfxXUKT4Dt/RR3R/dh9yHzIr7VkfDOqsdyfr2ogxdPrMtlUnYvhWMMR5FrquJ4JZkzje6vn10y/4qkjQcS7k11BUTCG7t3Y8MEAiTAII727gHpXS1UQyKxvCCu7mTWXxVqrfQlqMdzmiZUbrjp47unDLeo3d8GmfNbQBVSmc9aSd5UoF9aeXJmNn61m5csxXBzeSlOarWI033zPriQgtco85X9Ee3YiXS+FzaegGrExU0TEE9qHiw5eiczJUENB+LMUN1mRA4jR4/ezRZq1/f3NVL8rYJG6n2CQS39u5HBgiESQDBnW3cg1K62igGRWNwwU1lTplNlJiNTMeic1wZpBXcs/Gf0cUf2qMoKhNcXVVmGbLoUVzatGx/nBYz0qYlTCwDa+Vt0Pmq/rh9cATX9k1boGJ14ng5jaIKS9G5mesJuFD1A84yrE4YZy3O7DYa/2phAruxvrm7YItC7R2LDBCAwKoEENxVCY62fFBKVxuFoGj4EVzto3b/ZSJqWmWMpObMRkqtTOcF1yygZpQpWMGtopGDvEzmgQQ33rewK/ZYp1qfnAlG+tus47KCW3v3IwMEwiSA4M427kEpXW0Ug6LhSXD1Gl68aVWtwC121dO70m2s2r2iyi0KurizRUEvoKq/Yh/XbTmCa16e1UpX+5du1wWr9M5oYvUWheLOV/XH7YORuUpWVTRyFS6TuQGBYqpORCpDUNDDDX1KHNefMjQfUzM02qitKovg1t79yACBMAkguLONe1BKVxvFoGh4ElyxhzWzzCrWdI20ZY+b5brio2ZLrvM5pKQKa7R69Td5s+wTTvaP++mioGtaVXqX/yhV0lqjzpvtFtlx2y2n8dumHmtyxTR0NmPbmQo1DXdQxjUzec3uDjdzJQGzSJ+pSf/KYXZQJMdqQuA2mimbVGCW/C2N9gkEt/buRwYIhEkAwZ1t3INSutooBkXDm+Amf2jeXE8/Eb++fnBLfZ5MCYoxmy2759J5JtRCPp/rVKKt1nVO6edexXtvD25txQ9VsIJ7QhTcUg/2ih/alfYk1iajYi0F1x3dxvpm9sP+og+bO07n4z/BF/fHMHG/qte8X8KqnIYpKCpsnrlacMtHkTwbwT5brSYE+R6mT1hLgsse3No7FhkgAIFVCSC4qxIcbfmglK42CkHR8Cm41SttebOpzh/yUVh1E31WcGvvfmSAQJgEENzZxj0opauNYlA0ENzVd3b6rwHBRXBr71tkgAAE2hNAcNuzG3nJoJSuNhZB0fAhuJltmbyAwMoEuvoVghXc2rsfGSAQJgEEd7ZxD0rpaqMYFA0fgtuVjlAPBLolgODW3v3IAIEwCSC4s417UEpXG8WgaCC43SoUtY2ZAIJbe/cjAwTCJIDgzjbuQSldbRSDooHgjlnI6Fu3BBDc2rsfGSAQJgEEd7ZxD0rpaqMYFA0Et1uForYxE0Bwa+9+ZIBAmAQQ3NnGPSilq41iUDQQ3DELGX3rlgCCW3v3IwMEwiSA4M427kEpXW0Ug6KB4HarUNQ2ZgIIbu3djwwQCJMAgjvbuAeldLVRDIoGgjtmIaNv3RJAcGvvfmSAQJgEENzZxj0opauNYlA0ENxuFYraxkwAwa29+5EBAmESQHBnG/eglK42ikHRQHDHLGT0rVsCCG7t3Y8MEAiTAII727gHpXS1UQyKBoLbrUJR25gJILi1dz8yQCBMAgjubOMelNLVRjEoGgjumIWMvnVLAMGtvfuRAQJhEkBwZxv3oJSuNopB0UBwu1UoahszAQS39u5HBgiESQDBnW3cg1K62igGRQPBHbOQ0bduCSC4tXc/MkAgTAII7mzjHpTS1UYxKBoIbrcK5a22xfZ6FP/b3PHWxPHZ14zg1t79yACBMAkguLONe1BKVxvFoGgguNOwusXWRuK3UbS+vZi/iXoKCoJbe/cjAwTCJIDgzjbuQSldbRSDooHgenKpbqvd3dR6yyLuKmAR3Nq7HxkgECYBBHe2cQ9K6WqjGBQNBHcVYeqw7KmteAvCxtaioM7F1sb6+sbmlt6lwCLuiZZr2Ahu7d2PDBAIkwCCO9u4B6V0tVEMigaCK4RS7XPd3F1sHVQbXqP1g1uLU4ud7U39esNugU33DIi1Va2ey9RjXK1CcJPl23hngsqTW8Rt05wYdUtZnGINCG7t3Y8MEAiTAII727gHpXS1UQyKBoIrRM18kEsqay598GhihPWCmyuZfUPXUy+4OwfX1zfWt07FOXcO6ko2d03BsyeW6XZaKiCvtSFGcGvvfmSAQJgEENzZxj0opauNYlA0EFxrP6kprm/txh/kEjYZvzQeaRdxS2XR5GxQT7oom9Vf+7QElcHasN2MKzYzLNGcGCyC+3TtrYAMEIBAIAQQ3NkGOiilq41iUDQQXOF82hQdm7QqqWW0seA2qadOcHfizRLrYr02XTm2b3bV7fkrLyu4tXc/MkAgTAII7mzjHpTS1UYxKBoIbkvBTUVTLr2qZ3i1MU5lulamVa+K3jTrtekn0to0J0Y9f6+1g0Vwa+9+ZIBAmAQQ3NnGPSilq41iUDQQXGs/dhNCk5XXs30IrjJXu1JrTPSoeWaY3piL4BoypZtGdAYEt/buRwYIhEkAwZ1t3INSutooBkUDwW0puFUu1cY4CxZrlchqi5UOp+uPoihx8TbNiVHLmmeeRnBr735kgECYBBDc2cY9KKWrjWJQNBBcoXpdmWIn9aQWK/dAuOlYfztpbuZqq6KM4Nbe/cgAgTAJILizjXtQSlcbxaBoILhCcIOQvJDHi+DW3v3IAIEwCSC4s417UEpXG8WgaCC4IQtfaGNHcGvvfmSAQJgEENzZxj0opauNYlA0ENzQJC/k8SK4tXc/MkAgTAII7mzjHpTS1UYxKBoIbsjCF9rYEdzaux8ZIBAmAQR3tnEPSulqoxgUDQQ3NMkLebwIbu3djwwQCJMAgjvbuAeldLVRDIoGghuy8IU2dgS39u5HBgiESQDBnW3cg1K62igGRQPBDU3yQh4vglt79yMDBMIkgODONu5BKV1tFIOigeCGLHyhjR3Brb37kQECYRJAcGcb96CUrjaKQdFAcEOTvJDHi+DW3v3IAIEwCSC4s417UEpXG8WgaCC4IQtfaGNHcGvvfmSAQJgEENzZxj0opauNYlA0ENzQJC/k8SK4tXc/MkAgTAII7mzjHpTS1UYxKBoIbsjCF9rYEdzaux8ZIBAmAQR3tnEPSulqoxgUDQQ3NMkLebwIbu3djwwQCJMAgjvbuAeldLVRDIoGghuy8IU2dgS39u5HBgiESQDBnW3cg1K62igGRQPBDU3yQh4vglt79yMDBMIkgODONu5BKV1tFIOigeCGLHyhjR3Brb37kQECYRJAcGcb96CUrjaKQdFAcMcteYvt9Sj+t7kz7n4en0T3ENzaux8ZIBAmAQR3tnEPSulqoxgUDQR31Ga22NpI/DaK1rcX05DIMfNEcGvvfmSAQJgEENzZxj0opauNYlA0ENwxC9nuptZbFnE7CROCW3v3IwMEwiSA4M427kEpXW0Ug6KB4HZiTq0rObUVb0HY2FoU1LDY2lhf39jc0rsUWMQ9seoaNoJbe/cjAwTCJIDgzjbuQSldbRSDooHgFphllUgtdrc27baBg0cTMU03EogF19RHi4qYJioEN1m+jXcmqDxFi7hVNS85rlXdcRLNIbi1dz8yQCBMAgjubOMelNLVRjEoGgjuUmaW2TOQKOfuieNnKwW3uEi94O4cXF/fWN86FefcOajNeTNuzvxU12yzkbAEENzaux8ZIBAmAQR3tnEPSulqoxgUDQTX2k99woisWbjdObieMc6CGkqKpIuycs1XPC1BZTh4VOusddl0M0NJzQV9MELMIQS39u5HBgiESQDBnW3cg1K62igGRQPBXUL7jiaf+dKrqulKalUNJUXqBHfn4HoUSXs2OhtFRqlLaq7qTPCmi+DW3v3IAIEwCSC4s417UEpXG8WgaCC4SxhhmVOm9inXY5MHe5UVMa6pTDddl03eL3rTPBDXfiKtruYlxmU6M/siCG7t3Y8MEAiTAII727gHpXS1UQyKBoK7hNUZkXW3KJj3pd7qJ9eaQ24R45TlLmtWak3Os8pooyhSS8h1NS8xLtvE3BMIbu3djwwQCJMAgjvbuAeldLVRDIoGgruMCKbLqMZlcxrqOmJNkQLBLV2aTatK9uamLxt3ptm2CncI8ymF4Nbe/cgAgTAJILizjXtQSlcbxaBoILjLCO7xsycW25vqy3OjaH1dr8vWGOFSRfLaavRV/l/vA16q5vl46pIhSweO4Nbe/cgAgTAJILizjXtQSlcbxaBoILitbYmCkyOA4Nbe/cgAgTAJILizjXtQSlcbxaBoILiTszQ63JoAglt79yMDBMIkgODONu5BKV1tFIOigeC2tiUKTo4Aglt79yMDBMIkgODONu5BKV1tFIOigeBOztLocGsCCG7t3Y8MEAiTAII727gHpXS1UQyKBoLb2pYoODkCCG7t3Y8MEAiTAII727gHpXS1UQyKBoI7OUujw60JILi1dz8yQCBMAgjubOMelNLVRjEoGlJw3/Z7f/K5T93BDwTmSuDnb/v8G2+9R/18+fGna28FZIAABAIhgODONtBBKV1tFIOiIQXXzv0kIDB7Aghu7Z2QDBAIhwCCO9tYB6V0tVEMigaC27/J/fj7rl9704H+26VFSQDBrb0TkgEC4RBAcGcb66CUrjaKQdFAcKX09JP+n/73//OH/uF/2U9btFJGAMGtvROSAQLhEEBwZxvroJSuNopB0bjjsb95191f4adPAm981//1I5f8V322SFt5Aqef+k7trYAMEIBAIAQQ3NkGOiilq40iNGoRkWEVAjfddNMrX/nKVWqgLAQgAAEIdEgAwe0Q5riqQulkPKAhaZDunACC2zlSKoQABCCwCgEEdxV6oy6L0snwQEPSIN05AQS3c6RUCAEIQGAVAgjuKvRGXRalk+GBhqRBunMCCG7nSKkQAhCAwCoEENxV6I26LEonwwMNSYN05wQQ3M6RUiEEIACBVQgguKvQG3VZlE6GBxqSBunOCSC4nSOlQghAAAKrEEBwV6E36rIonQwPNCQN0p0TQHA7R0qFEIAABFYhgOCuQm/UZVE6GR5oSBqkOyeA4HaOlAohAAEIrEIAwV2F3qjLonQyPNCQNEh3TgDB7RwpFUIAAhBYhQCCuwq9UZdF6WR4oCFpkO6cAILbOVIqhAAEILAKAQR3FXqjLovSyfBAQ9Ig3TkBBLdzpFQIAQhAYBUCCO4q9EZdFqWT4YGGpEG6cwIIbudIqRACEIDAKgQQ3FXojbosSifDAw1Jg3TnBBDczpFSIQQgAIFVCCC4q9AbdVmUToYHGpIG6c4JILidI6VCCEAAAqsQQHBXoTfqsiidDA80JA3SnRNAcDtHSoUQgAAEViGA4K5Cb9RlUToZHmhIGqQ7IXDTTTf9tPn3qle9as+ePebVT7/hDW+4cOFCJ61QCQQgAAEItCCA4LaANo0iKJ2MEzQkDdKdEDh37tyePXuion+HDx/upAkqgQAEIACBdgQQ3HbcJlAKpZNBgoakQborAocPH8777Z49e86dO9dVE9QDAQhAAAItCCC4LaBNowhKJ+MEDUmDdFcEChdxWb7tCi/1QAACEGhNAMFtjW7sBVE6GSFoSBqkOyTgLOKyfNshW6qCAAQg0JoAgtsa3dgLonQyQtCQNEh3SMBZxGX5tkO2VAUBCECgNQEEtzW6sRdE6WSEoCFpkO6WgF3EZfm2W7DUBgEIQKA1AQS3NbqxF0TpZISgIWmQ7paAXcRl+bZbsNQGAQhAoDUBBLc1urEXROlkhKAhaTRP3/eLv3DXm/9XfmoJ7P/v/ttX/Bd/6xNvuKI2JxkkgT9/95HmZyM5IQABCDQngOA2ZzWxnCidDBg0JI3maQRX2lhF+hNvuOLn/8f/viIDhwoJILjNL0ZyQgACSxFAcJfCNaXMKJ2MFjQkjeZpBLdQy3izKwIIbvOLkZwQgMBSBBDcpXBNKTNKJ6MFDUmjeRrB7crkqKeQAILb/GIkJwQgsBQBBHcpXFPKjNLJaEFD0mieloL70Ec+/ugdn+cHAisS+LP3/99WdhHc5hcjOSEAgaUIILhL4ZpSZpRORgsakkbztBTcR+/4/Nkz3+QHAisS+PJvLhDc5tcgOSEAgXYEENx23CZQCqWTQYKGpNE8jeCuKHMUzxNAcJtfgOSEAARaE0BwW6Mbe0GUTkYIGpJG8zSCm/cz3lmRAILb/AIkJwQg0JoAgtsa3dgLonQyQtCQNJqnEdwVZY7ieQIIbvMLkJwQgEBrAghua3RjL4jSyQhBQ9JonkZw837GOysSQHCbX4DkhAAEWhNAcFujG3tBlE5GCBqSRvM0gruizFE8TwDBbX4BkhMCEGhNAMFtjW7sBVE6GSFoSBrN0whu3s94Z0UCCG7zC5CcEIBAawIIbmt0Yy+I0skIQUPSaJ5GcFeUOYrnCSC4zS9AckIAAq0JILit0Y29IEonIwQNSaN5GsHN+xnvrEgAwW1+AZITAhBoTQDBbY1u7AVROhkhaEgazdMI7ooyR/E8AQS3+QX4/7d3RqFtHH0C34eQKIQEJxBjiCEieYggKag2AcUPJjTQKJSrBUlAoaZ1GzsIPwQ1XIhyOWI9hJhCjJOPgmhLEHXh7D70lLse0csdKf1oxBVyLkdBD34Q5Ch6CfjRj7lIq12PZdkazUra2d1fCV9Gq5ndmd9/tvp90/nvUhMCEFAmgOAqo9O9IUonRggaIg35sjcF9/fsiGEYxmRew/eu6dy3PuFCcOVvQGpCAALKBBBcZXS6N0TpxAhBQ6QhX+6F4P5wrWafm/+MnJ28//v2dT4HR9QlUue+1YH8/sP9T0dr7M5mf+mTjzoIROseIrjyNyA1IQABZQIIrjI63RuidGKEoCHSkC/3QHAb9rkpuPXSqITj/nb/bK3utZV2yqUsuDr37c1feVNtTXIIrvwspiYEIBBEAgiub6OO0omhhYZIQ77cO8G1jNZyyvba+qZvgut638yRWt1orIP+cM0Yvfbgh/wDVnDlJzA1IQCBwBJAcH0bepRODC00RBry5b4Jri1zv93/dLS+g9ZcqBy9tvJb5c1fFcuDzaOb67j2f7Kv/Vf7yby51cFawb2/Mtk4lbAL4hdTEO0TiQuijYZWZ5o+vul532ojrf1pKbiNdetG/1nBlZ/F1IQABIJIAMH1bdRROjG00BBpyJd7J7iiYFoW++avysqk+IVZri3uthbc5i2zxqc/tLTh+nkaOWcSgit2oa99Q3DlpyY1IQABCOxKAMHdFY+Xv0TpxOhBQ6QhX+6P4BqGMWptUfgtv/KblT7V2JMw8qC+iLtti4Klqo2F219WJke2Cu7Igx9qp7Lk2LrEzlt4rZqi4faxb43xbr167ZPYc1Zw5acvNSEAgQATQHB9G3yUTk36YlUAABoRSURBVAwtNEQa8uXeCa61DeDNb/lP60Zn/Tf3Xx5MjtSTyWzP20lwzYbWt4K2NjzVfkxYQxxFTbTWSoVWmyrsVt8QXPmZSU0IQAACuxNAcHfn4+FvUToxeNAQaciX+yC49raEmo9ai7K23NYKlsI2e6qa4La8ROOpWw0ztgW3332ztNscqdAN4XlbrODKT19qQgACASaA4Po2+CidGFpoiDTky30Q3C0ruA1nNXcaWHsSmgTX+mjb8E5bFFqv4HYiuP3uG4IrPzWpCQEIQGBXAgjurni8/CVKJ0YPGiIN+XLvBHfLGq29TNvSPm2jbWxmqDet7TfYvmXWNGOnWxRc71vLFdxtGXW1btoSv3WvhbDia0mzPhV40YP8DUhNCEBAmQCCq4xO94YonRghaIg05Ms9ENw3zaJWe5OZ+Syw+hOyNl9ncHby/oPaQxVswa38nr3W2J47et983cPmEWNk22PCrFf1Nu9t2Nn5vNS3uoYjuPKTmZoQgECgCCC4vg03SieGFhoiDflyLwRXn6VEeuIKAVZw5W9AakIAAsoEEFxldLo3ROnECEFDpCFfRnBdUUB/XxTBlb8BqQkBCCgTQHCV0eneEKUTIwQNkYZ8GcH1t2u6MjoEV/4GpCYEIKBMAMFVRqd7Q5ROjBA0RBryZQTXFQX090URXPkbkJoQgIAyAQRXGZ3uDVE6MULQEGnIlxFcf7umK6NDcOVvQGpCAALKBBBcZXS6N0TpxAhBQ6QhX0ZwXVFAf18UwZW/AakJAQgoE0BwldHp3hClEyMEDZGGfBnB9bdrujI6BFf+BqQmBCCgTADBVUane0OUTowQNEQa8mUE1xUF9PdFEVz5G5CaEICAMgEEVxmd7g1ROjFC0BBpyJcRXH+7piujQ3Dlb0BqQgACygQQXGV0ujdE6cQIQUOkIV9GcF1RQH9fFMGVvwGpCQEIKBNAcJXR6d4QpRMjBA2RhnwZwfW3a7oyOgRX/gakJgQgoEwAwVVGp3tDlE6MEDREGvJlBNcVBfT3RRFc+RuQmhCAgDIBBFcZne4NUToxQtAQaciXEVx/u6Yro0Nw5W9AakIAAsoEEFxldLo3ROnECEFDpCFfFgX3fx5+9b+5p/yBgEMC//2Pt39J/IP5549//if52UhNCEAAAvIEEFx5Vh6ridKJAYOGSEO+LAquLSUUINAtAgiu/M1ITQhAoCMCCG5HuLxUGaUTowUNkYZ8GcGVNLn/+Ch+JLTvX+MfStanmkkAwZW/GakJAQh0RADB7QiXlyqjdGK0oCHSkC8juJImuvLhBcMwVj68IFmfagiu/G1ITQhAQIEAgqsAzRtNUDoxTtAQaciX/+/f/62y/C/8aUvg7397YhjG3//2pG1NKogEqv/1n/KzkZoQgAAE5AkguPKsPFYTpRMDBg2RBuWuE2CCdR0pJ4QABCDghACC64Se1m35xRXDAw2RBuWuE2CCdR0pJ4QABCDghACC64Se1m35xRXDAw2RBuWuE2CCdR0pJ4QABCDghACC64Se1m35xRXDAw2RBuWuE2CCdR0pJ4QABCDghACC64Se1m35xRXDAw2RBuWuE2CCdR0pJ4QABCDghACC64Se1m35xRXDAw2RBuWuE2CCdR0pJ4QABCDghACC64Se1m35xRXDAw2RBuWuE2CCdR0pJ4QABCDghACC64Se1m35xRXDAw2RBuWuE2CCdR0pJ4QABCDghACC64Se1m35xRXDAw2RBuWuE2CCdR0pJ4QABCDghACC64Se1m35xRXDAw2RBuWuE2CCdR0pJ4QABCDghACC64Se1m35xRXDAw2RBuWuE2CCdR0pJ4QABCDghACC64Se1m35xRXDAw2RBuWuE2CCdR0pJ4QABCDghACC64Se1m35xRXD4x6NtcdjRu2fG883+/P8Rv3Q2OO1zWOUPE3AvQnmaWx0HgIQgECvCCC4vSLr+nn5xRVD4CaNZp1tpbxiXyl7kICbE8yDuOgyBCAAgV4TQHB7Tdi18/OLK6J3lcZWo234rriiK/aUsicJuDrBPEmMTkMAAhDoKQEEt6d43Tw5v7gifZdpNBR37PHaZsnu3trjG+YuBsMwxm5sbltYe/54rPGFeNhuR0EjAi5PMI1I0BUIQAACWhBAcLUIQy86wS+uSNV1GtY+BVNZN5dvG8fre3Ib/2NuzbWWfa1v2LArxlO7susTTDsidAgCEICAqwQQXFfx9/Li/OKKdN2nIQir4Kqm39oHntcz0uofG9+YKrz2eMyuIw6LspsESqXSnPVPOp02DCOdTlsH5t5962bnuDYEIACBYBNAcH0bf/eVTie0OtCwFms3l2/fWoesZdrG3/Uaz+2NC2NjN56v8cAFneZTvS/VajUUCjXFzvwYCoWq1ap2PaZDEIAABAJDAMH1bah1UDp94OpAo8X2290E9+3bt2vPH9+wtuFuec6YPmAD3hNz4Xa7475byg04GYYPAQhAwF0CCK67/Ht4dR2UrofD6/DUOtBoIbgtDlkDe36jtm5b/9RYyxVWfq1K/O0ygZaLuCzfuhwVLg8BCEDg7VsE17ezQAel0weuDjRa2myrNdzGDoWmdUE24eozncSebF/EZflW5EMZAhCAgCsEEFxXsPfjojooXT/GKXcNHWi0FNzaPoTNbQim05pLtbXjluPymDC5MLtRq2kRl+VbN4LANSEAAQg0E0Bwm4n45rMOSqcPTGjoEwv/9URcxGX51n/xZUQQgIAXCSC4XoyaVJ9ROhETNEQalLtLwF7EZfm2u2A5GwQgAAFlAgiuMjrdG6J0YoSgIdKg3HUCX3zxhfkc3K6fmRNCAAIQgIACAQRXAZo3mqB0YpygIdKg3C0CpVIpnU5HIhFzt/Tp06fn5uZWV1e7dX7OAwEIQAACagQQXDVuHmiF0olBgoZIg7ITAtVqNZ/PJ5PJgYEBKwuw+e+hoaGpqanl5eWNjQ0n16ItBCAAAQioEUBw1bh5oBVKJwYJGiINygoEVldX5+fnY7FYs8y2+xyPxxcXF8vlssJFaQIBCEAAAmoEEFw1bh5ohdKJQYKGSIOyJIGNjY1CoZBKpYaGhtp5bPvvw+FwOp0uFouSV6caBCAAAQgoE0BwldHp3hClEyMEDZEG5d0JVCqVxcXFeDzeXloN4/ipkYnpuTu5FzcfPfvgyuyxE6fbtgqFQolEIp/PV6vV3XvCtxCAAAQgoEYAwVXj5oFWKJ0YJGiINCi3JFAsFsWMsV08df+BQ2cvXJ28/fWDlT8Xfn7d9Ce79Ory7MMzsYt79u7b5STmV9FoNJPJlEqlll3iIAQgAAEIqBFAcNW4eaAVSicGCRoiDco2ATtjLBQKtZXRYydOf3Bl9uajZ01Gu8vHmezS2KXJI4PDbU9u56Wtr6/b3aMAAQhAAAJqBBBcNW4eaIXSiUGChkiD8rsnec3NzUWj0bbeuWfvvjOxi5dnH2aXXu0ism2/upN7MTE9d/K9c22vaBhGLBYjL41ZCgEIQMAJAQTXCT2t26J0YnigIdIIZnl9fX15eXlqakomY+zI4PDYpcmZ7FJbc+20woOVPydvf332wtWDh4+2ld1wOJxKpQqFQjBDxqghAAEIKBNAcJXR6d4QpRMjBA2RRqDK5XJZPmPs5HvnzIyxTrVVrf6tJ8WO8tJyuVylUglU+BgsBCAAATUCCK4aNw+0QunEIEFDpBGEcrFYTKVS4XC47SrpwcNHd8kYUzPXTltll14l0wuSeWmRSIS8tCDMYcYIAQg4IYDgOqGndVuUTgwPNEQafi1Xq9VcLpdIJOQzxm49KXYqo72uP5NdGp+4LpOXNjAwkEwml5eXyUvz65RmXBCAgDIBBFcZne4NUToxQtAQafisXCqVMpmMfMZYMr3gMGOs145rnt/MS4uMnm+7CG3mpc3Pz79LnvNZcBkOBCAAATUCCK4aNw+0QunEIEFDpOGDsp0xNjAw0Nb/jgwOj09c70XGWH9M96uf1hTy0jY2NnwQaIYAAQhAQI0AgqvGzQOtUDoxSNAQaXi3XC6X5+fnY7FYW6k1DCMyer6fGWP9kd1bT4ofXvtS5n1phmEkEgny0rw72+k5BCDghACC64Se1m1ROjE80BBpeKu8sbFRKBQ6zRj76qe1/hinW1cx89LeH/9Y5n1pkUgknU6/ePHCW6GntxCAAASUCSC4yuh0b4jSiRGChkjDE+VKpdJRxtiH177UMGOsP/pr5qUNDp9su7Bt5qXl8/lqteqJaUAnIQABCKgRQHDVuHmgFUonBgkaIg2dy6VSKZ1ORyKRtq62Z+++98c/9krGWH9M997TlxPTc5J5adFolLw0ne8F+gYBCDghgOA6oad1W5RODA80RBq6lavVaj6fTyaTMhljg8MnPZ0x1h/T/eqntc/vfSf5vrShoaGpqalCoUBemm63Bv2BAASUCSC4yuh0b4jSiRGChkhDk/Lq6mqnGWP3nr7sjyD66Sq3nhQ/+iwjmZcWj8cXFxfL5bImk4RuQAACEFAjgOCqcfNAK5RODBI0RBoulu2MsaGhobabEMx3jH1+7zvfZ4z1x6ftvLT9Bw61hW/mpRWLRRdnC5eGAAQgoEwAwVVGp3tDlE6MEDREGv0vVyqVxcXFeDze1qsMwzh24vRHn2UCmzHWH9mdffjj+MR1mby0UCiUTCbJS+v/XcMVIQABJwQQXCf0tG6L0onhgYZIo2/lYrEomTG2/8AhMsb6o7ZNV7n39OXl2YfyeWmZTIb3pfXtDuJCEICAMgEEVxmd7g1ROjFC0BBp9LRsZ4yFQqG267Vmxtjswx+brIuP/Sdg5qWNXZo8ePho28CZeWnLy8vr6+s9nU6cHAIQgIAaAQRXjZsHWqF0YpCgIdLoRXl1dTWTyUSj0bZuZL5j7PLsQzLG+m+xklc089KOnxqRiSZ5ab24oTgnBCDgkACC6xCgvs1ROjE20BBpdKu8vr6+vLw8NTUlmTE2dmmSjDFJxdSkWkd5aeFwOJVKkZfWrfuL80AAAk4IILhO6GndFqUTwwMNkYbDcrlcls8YO35qxC8ZY78m6m+fOJd93S/77P8VdxvazUfP5PPSEolELperVCoOJxvNIQABCKgRQHDVuHmgFUonBgkaIg21crFYTKVS4XC47X+2diVjbLrpCQ2R0XMzv3bVRPuvm/2/4m6Ca8M089LOxC62nQmGYUSj0UwmUyqV1GYdrSAAAQioEUBw1bh5oBVKJwYJGiIN+XKlUsnlcolEQj5j7OajZ7YJ9bHQcMEm5QpLOO7dmdFaq/j37XrbkW7+ejf7Sdj4ZPpnKWXc4dIdXdHJhRTb2nlpRwaHm8hv/zgwMDA1NUVemvzdR00IQMAJAQTXCT2t26J0YnigIdJoWy6VSvIZY2diFzXIGGu4oGW0lu+219bXXRfcmtrWNzMYfhdc0cs7ykuLxWLz8/O8L63tnUgFCEBAmQCCq4xO94YonRghaIg0WpbtjLGBgYHty29NR44MDmuWMdZacC3ffX13xpbO2lDC8e/v1tZWLQ+2h9cQ4l+nZz6xtmKMnsuaWx0alc/NfH+u4a/NuyDuZrPWV/VLfFtfGf02a53KvoxhGKOJ2rfmOT+Z/tZuKJ6zxRXDM21XmhWXY0VbdVJ+sPLn5O2v3x//WOZ9aWZeWqFQ2NjYaDktOQgBCEBAjQCCq8bNA61QOjFI0BBpNJUXFxdjsZgoX7uUdc0Y26aqmxb7euHn789tH1LNZbe1qgtu83bexkLstsr1czZyzjYNVVBbc39Ce8Ft7pyVx9b6ira1O9HQ/rS9+ejZ2KXJ5uG1+hwKhRKJRKFQaJqcfIQABCCgRgDBVePmgVYonRgkaIg0tpflXzm2Z+++M7GLyfRCdulVfyRJ7io7uKC1ReFu9vu75nrqz9aehEi2vohrfbRqLlg+2li4/fb7cxFzK611iUh2enPx1dq8m/2kpm2RT+pfya+h7npO27+b1putnsuRke9MN2veyb2YmJ6Tf0Ha3NwcL0jbfmNyBAIQUCaA4Cqj070hSidGqFqttlo24pgjAsdOnP7gyqxLWWVNNtYwRXt1865pnI2dAK8Xaius9WQye8SWJjbvwW2oakN/BYlsXMJaXt1qxpsruKPW/oemHrb8uOs5LcG1r7jQGJTD3LWWPenOwZns0vjEdZmcs1AolEwm8/l8tVoVb1XKEIAABLpCAMHtCkYdT4LgNkVldXX1Bf9IE/jjjz8KhYL8SxzOXrg6efvrByt/CkbYHWeSO2Gz4NrbEmp2aC3K2nJbK3RXcOu7EYQ9uILmtrz6lj24hq2wW227WX/1FNzs0qvLsw/PxC7u2btvC+FWHyKRSDqd5mUQTf924iMEINB1Aghu15HqckIEV5dIeL8fq6ur8/Pzkvt0j58amZieu5N7ISem3ZLgZsHdsoJr7x8wNdR8LliT4FofbRveaYvCDjK6OZDmpyg4FlxDyy0KNx89++DK7LETp1t5bPMx83W+vPfB+/8yYAQQ8AwBBNczoeq0owhup8So35ZAtVrN5/PJZFK/Jy00BLdZrExtbamYttE2/rt/vWnLzLOtSWZtBbdu9pLPwW1eo225gts0KLsD/f2/EDWDN5+QcPbCVZknJAwNDU1NTfGEhLa3FRUgAIFeEEBwe0FVi3MiuFqEwb+dKJVK6XQ6Emk8MatJwsSPZl5ar5+V2/zog9qbzMxngdXMrP7aBbNTo+dmsrWHKtiC+/OviXhje671EK7NI0Zk22PCrFf1bpXRzRXcTrxTRnB3eoiY2hVVWt3Jvfjos8zxUyNiWHcqm8+4JWPMv7c+I4OANwgguN6Ik0IvEVwFaDRRIGC/7Wwn4xGPDw6f1CYvTUX1OpFXb5+/07eUkTGmcO/QBAIQ6B0BBLd3bF0+M4LrcgCCd/mNjY1CoZBKpcLhVm82ED3XMPYfOPT++MfJ9IJ7eWneFtAeqfa9py87zRgrlUrBm+yMGAIQ0J0Agqt7hJT7h+Aqo6OhcwLlcrmjvDRd3x/RWwl+axi2p3Zatht2pXDz0bPxieuDwye3/t+Q1p8SiUQulyNjzPltwhkgAIHeEUBwe8fW5TMjuC4HgMvXCXT0BuCDh49q9gbg3gruws+vTa9V+1+HaptdepVML/BOXe5UCEDAlwQQXF+GtTYoBNe3ofXswEqlUiaTiUajrRcGtx6NjJ6fmJ679/SlQ43Tv3mna7difYXR3XpS7DRjrFwue3bS0XEIQCCgBBBc3wYewfVtaL0/sGq1msvlEolEKBTaqrUtPg0OnxyfuD6TXVKQOZqYBMyMsbMXrh48fLQF4q2HBgYGksnk8vLy+vq69+caI4AABAJKAMH1beARXN+G1l8DKxaLnealZZdeYa4yBO49fTkxPRcZPb/VYFt/ikajmUyGjDF/3V6MBgLBJYDg+jb2CK5vQ+vTgZXL5cXFxXg83tq/th49duL0h9e+vPWkKON5Qaszk12SzBgLhUJkjPn0fmJYEAg6AQTXtzMAwfVtaP0+MDsvbWhoaKvWtvh08PDRsxeuTt7+OuCPG7Mzxvbs3dcC09ZD4XA4lUoVCgW/TyXGBwEIBJcAguvb2CO4vg1tkAb27oVYc3NzHeWl3cm9CM6S7a0nxQ+uzB47cXqrwbb+dP78+cXFRTLGgnQDMVYIBJcAguvb2CO4vg1tIAdWrVbz+XwymZTJSzsyODx2adKveWkPVv6cvP21ZMbY0NDQ1NQUGWOBvGkYNAQCTQDB9W34EVzfhjbwAysWi+l0OhKJtF6oFI7u2bvvTOzi5dmHPshLu5N7MTE9d/K9c8L4diyaGWPv1r8DP1kAAAEIBJQAguvbwCO4vg0tA7MIVCqVjvLSPrgye/PRM29tYJjJLo1dmjwyOLyjzFpfmBlj+Xy+Wq1ahPgbAhCAQEAJILi+DTyC69vQMrBtBDY2NgqFQiqVkslL23/gkOZ5afeevrw8+/BM7KJMxlgkEkmn08VicRsVDkAAAhAILgEE17exR3B9G1oGtiuB1dXV+fn5WCxmrWzu9vfxUyMffZbRJC/t5qNn8hlj8XicjLFdJwJfQgACgSaA4Po2/Aiub0PLwOQI2HlpAwMDu0lu/TszL+3ze9999dNaP/cwmBlj749/vP/AobadtDPGNjY25BhQCwIQgEBACSC4vg08guvb0DKwzgmUSiXJvDTDMMy8tHtPX/bOdG89KX70Web4qZG2UmsYRjQanZ+fJ2Os87DTAgIQCC4BBNe3sUdwfRtaBuaAQKVSyeVyiURC5nFjg8Mnxyeudysv7auf1j6/951kxtjAwEAymSRjzEGoaQoBCASaAILr2/AjuL4NLQPrBgE7Ly0cDrddRt1/4ND74x8n0wsKjxuzM8baXsUwDDLGuhFbzgEBCEDgLYLr20mA4Po2tAys2wTK5XKneWm3nhR338Aw+/DH8Ynrg8MnZbw2Ho/ncrlKpdLtkXE+CEAAAgElgOD6NvAIrm9Dy8B6RmB9fX15eXlqakomL+3g4aNnL1wV89KyS6+S6QXJjLFwOJxKpQqFAhljPYsnJ4YABIJLAMH1bewRXN+GloH1hUCpVMpkMtFoVGYJNjJ6/tiJ0zI1Y7EYGWN9CSAXgQAEAk0AwfVt+BFc34aWgfWXQLValc9La+m4dsbY+vp6f/vO1SAAAQgElACC69vAI7i+DS0Dc49AsVhMpVIyeWlmxlgmkymVSu71lytDAAIQCCgBBNe3gUdwfRtaBqYBgXK5vLi4GI/Hm5ZsQ6FQIpEgY0yDENEFCEAg0AQQXN+GH8H1bWgZmE4EzLy0K1euGIbxzTffkDGmU3DoCwQgEFwCCK5vY4/g+ja0DEw/Atxu+sWEHkEAAoEmgOD6Nvz84vo2tAxMPwLcbvrFhB5BAAKBJoDg+jb8/OL6NrQMTD8C3G76xYQeQQACgSbw/+Md97YApsJXAAAAAElFTkSuQmCC)"
      ],
      "metadata": {
        "id": "N1-p136lTrqY"
      }
    },
    {
      "cell_type": "code",
      "source": [
        "eta=0.001\n",
        "epochs=1000\n",
        "m=random.uniform(-1,1)\n",
        "c=random.uniform(-1,1)\n",
        "nb=2\n",
        "bs=X_train_batches[0].shape[0]"
      ],
      "metadata": {
        "id": "pxCVL6pxTjMJ"
      },
      "execution_count": null,
      "outputs": []
    },
    {
      "cell_type": "code",
      "source": [
        "for iter in range(epochs):\n",
        "  for batch in range(nb):\n",
        "    Gm=0\n",
        "    Gc=0\n",
        "    for sample in range(bs):\n",
        "      Gm=Gm+(y_train_batches[batch].iloc[sample]-m*X_train_batches[batch].iloc[sample]-c)*X_train_batches[batch].iloc[sample]\n",
        "      Gc=Gc+(y_train_batches[batch].iloc[sample]-m*X_train_batches[batch].iloc[sample]-c)\n",
        "    gm=-Gm/bs\n",
        "    gc=-Gc/bs\n",
        "    delm=-eta*gm\n",
        "    delc=-eta*gc\n",
        "    m=m+delm\n",
        "    c=c+delc\n",
        "print(\"m=\",round(m))\n",
        "print(\"c=\",round(c))"
      ],
      "metadata": {
        "colab": {
          "base_uri": "https://localhost:8080/"
        },
        "id": "NSrw2KF5UFoR",
        "outputId": "548d6441-0fbb-46cf-cc42-1d2575b4684e"
      },
      "execution_count": null,
      "outputs": [
        {
          "output_type": "stream",
          "name": "stdout",
          "text": [
            "m= 2\n",
            "c= 3\n"
          ]
        }
      ]
    },
    {
      "cell_type": "code",
      "source": [
        "#Training MSE\n",
        "y_train_pred=m*X_train+c\n",
        "mse=((y_train-y_train_pred)**2).mean()\n",
        "print(\"MSE_Train=\",mse)"
      ],
      "metadata": {
        "colab": {
          "base_uri": "https://localhost:8080/"
        },
        "id": "A1ks3TktVJ3a",
        "outputId": "c7fe9f18-ea77-4b7d-849d-ad35a495bb8e"
      },
      "execution_count": null,
      "outputs": [
        {
          "output_type": "stream",
          "name": "stdout",
          "text": [
            "MSE_Train= 0.0027811198296192677\n"
          ]
        }
      ]
    },
    {
      "cell_type": "code",
      "source": [
        "#Training MSE\n",
        "y_test_pred=m*X_test+c\n",
        "mse=((y_test-y_test_pred)**2).mean()\n",
        "print(\"MSE_Test=\",mse)"
      ],
      "metadata": {
        "colab": {
          "base_uri": "https://localhost:8080/"
        },
        "id": "PZnViMtCVlaZ",
        "outputId": "95b90abf-3559-4fe6-afb2-86b0cc669dc4"
      },
      "execution_count": null,
      "outputs": [
        {
          "output_type": "stream",
          "name": "stdout",
          "text": [
            "MSE_Test= 0.00756790064975925\n"
          ]
        }
      ]
    },
    {
      "cell_type": "code",
      "source": [
        "X=input(\"Enter the value of X\")\n",
        "X=float(X)\n",
        "m=2\n",
        "c=3\n",
        "Y=m*X+c\n",
        "print(\"Predicted Output Y = \", Y)"
      ],
      "metadata": {
        "colab": {
          "base_uri": "https://localhost:8080/"
        },
        "id": "2T2bLFSOVue3",
        "outputId": "1d56393e-5a39-457f-f7a4-9dd74eed94c8"
      },
      "execution_count": null,
      "outputs": [
        {
          "output_type": "stream",
          "name": "stdout",
          "text": [
            "Enter the value of X0.9\n",
            "Predicted Output Y =  4.8\n"
          ]
        }
      ]
    }
  ]
}