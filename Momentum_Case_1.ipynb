{
  "nbformat": 4,
  "nbformat_minor": 0,
  "metadata": {
    "colab": {
      "provenance": [],
      "authorship_tag": "ABX9TyOa+SJm3Hx6DZLD4He8A9uU",
      "include_colab_link": true
    },
    "kernelspec": {
      "name": "python3",
      "display_name": "Python 3"
    },
    "language_info": {
      "name": "python"
    }
  },
  "cells": [
    {
      "cell_type": "markdown",
      "metadata": {
        "id": "view-in-github",
        "colab_type": "text"
      },
      "source": [
        "<a href=\"https://colab.research.google.com/github/vvrgit/Udemy-Oprimization-Basics/blob/main/Momentum_Case_1.ipynb\" target=\"_parent\"><img src=\"https://colab.research.google.com/assets/colab-badge.svg\" alt=\"Open In Colab\"/></a>"
      ]
    },
    {
      "cell_type": "markdown",
      "source": [
        "#Momentum Optimizer"
      ],
      "metadata": {
        "id": "MvFUNNCqgWwo"
      }
    },
    {
      "cell_type": "code",
      "source": [
        "import pandas as pd\n",
        "import random"
      ],
      "metadata": {
        "id": "yWeskGccckPK"
      },
      "execution_count": null,
      "outputs": []
    },
    {
      "cell_type": "code",
      "source": [
        "data=pd.read_excel(\"/content/SampleData.xlsx\")\n",
        "data"
      ],
      "metadata": {
        "colab": {
          "base_uri": "https://localhost:8080/",
          "height": 175
        },
        "id": "GFRsr0wKgdJy",
        "outputId": "b5ecb848-98f2-45bd-851d-8dd8a6750858"
      },
      "execution_count": null,
      "outputs": [
        {
          "output_type": "execute_result",
          "data": {
            "text/plain": [
              "     X    Y\n",
              "0  0.2  3.4\n",
              "1  0.4  3.8\n",
              "2  0.6  4.2\n",
              "3  0.8  4.6"
            ],
            "text/html": [
              "\n",
              "  <div id=\"df-e11c85ac-5288-4fee-bf73-75ae4903aad9\" class=\"colab-df-container\">\n",
              "    <div>\n",
              "<style scoped>\n",
              "    .dataframe tbody tr th:only-of-type {\n",
              "        vertical-align: middle;\n",
              "    }\n",
              "\n",
              "    .dataframe tbody tr th {\n",
              "        vertical-align: top;\n",
              "    }\n",
              "\n",
              "    .dataframe thead th {\n",
              "        text-align: right;\n",
              "    }\n",
              "</style>\n",
              "<table border=\"1\" class=\"dataframe\">\n",
              "  <thead>\n",
              "    <tr style=\"text-align: right;\">\n",
              "      <th></th>\n",
              "      <th>X</th>\n",
              "      <th>Y</th>\n",
              "    </tr>\n",
              "  </thead>\n",
              "  <tbody>\n",
              "    <tr>\n",
              "      <th>0</th>\n",
              "      <td>0.2</td>\n",
              "      <td>3.4</td>\n",
              "    </tr>\n",
              "    <tr>\n",
              "      <th>1</th>\n",
              "      <td>0.4</td>\n",
              "      <td>3.8</td>\n",
              "    </tr>\n",
              "    <tr>\n",
              "      <th>2</th>\n",
              "      <td>0.6</td>\n",
              "      <td>4.2</td>\n",
              "    </tr>\n",
              "    <tr>\n",
              "      <th>3</th>\n",
              "      <td>0.8</td>\n",
              "      <td>4.6</td>\n",
              "    </tr>\n",
              "  </tbody>\n",
              "</table>\n",
              "</div>\n",
              "    <div class=\"colab-df-buttons\">\n",
              "\n",
              "  <div class=\"colab-df-container\">\n",
              "    <button class=\"colab-df-convert\" onclick=\"convertToInteractive('df-e11c85ac-5288-4fee-bf73-75ae4903aad9')\"\n",
              "            title=\"Convert this dataframe to an interactive table.\"\n",
              "            style=\"display:none;\">\n",
              "\n",
              "  <svg xmlns=\"http://www.w3.org/2000/svg\" height=\"24px\" viewBox=\"0 -960 960 960\">\n",
              "    <path d=\"M120-120v-720h720v720H120Zm60-500h600v-160H180v160Zm220 220h160v-160H400v160Zm0 220h160v-160H400v160ZM180-400h160v-160H180v160Zm440 0h160v-160H620v160ZM180-180h160v-160H180v160Zm440 0h160v-160H620v160Z\"/>\n",
              "  </svg>\n",
              "    </button>\n",
              "\n",
              "  <style>\n",
              "    .colab-df-container {\n",
              "      display:flex;\n",
              "      gap: 12px;\n",
              "    }\n",
              "\n",
              "    .colab-df-convert {\n",
              "      background-color: #E8F0FE;\n",
              "      border: none;\n",
              "      border-radius: 50%;\n",
              "      cursor: pointer;\n",
              "      display: none;\n",
              "      fill: #1967D2;\n",
              "      height: 32px;\n",
              "      padding: 0 0 0 0;\n",
              "      width: 32px;\n",
              "    }\n",
              "\n",
              "    .colab-df-convert:hover {\n",
              "      background-color: #E2EBFA;\n",
              "      box-shadow: 0px 1px 2px rgba(60, 64, 67, 0.3), 0px 1px 3px 1px rgba(60, 64, 67, 0.15);\n",
              "      fill: #174EA6;\n",
              "    }\n",
              "\n",
              "    .colab-df-buttons div {\n",
              "      margin-bottom: 4px;\n",
              "    }\n",
              "\n",
              "    [theme=dark] .colab-df-convert {\n",
              "      background-color: #3B4455;\n",
              "      fill: #D2E3FC;\n",
              "    }\n",
              "\n",
              "    [theme=dark] .colab-df-convert:hover {\n",
              "      background-color: #434B5C;\n",
              "      box-shadow: 0px 1px 3px 1px rgba(0, 0, 0, 0.15);\n",
              "      filter: drop-shadow(0px 1px 2px rgba(0, 0, 0, 0.3));\n",
              "      fill: #FFFFFF;\n",
              "    }\n",
              "  </style>\n",
              "\n",
              "    <script>\n",
              "      const buttonEl =\n",
              "        document.querySelector('#df-e11c85ac-5288-4fee-bf73-75ae4903aad9 button.colab-df-convert');\n",
              "      buttonEl.style.display =\n",
              "        google.colab.kernel.accessAllowed ? 'block' : 'none';\n",
              "\n",
              "      async function convertToInteractive(key) {\n",
              "        const element = document.querySelector('#df-e11c85ac-5288-4fee-bf73-75ae4903aad9');\n",
              "        const dataTable =\n",
              "          await google.colab.kernel.invokeFunction('convertToInteractive',\n",
              "                                                    [key], {});\n",
              "        if (!dataTable) return;\n",
              "\n",
              "        const docLinkHtml = 'Like what you see? Visit the ' +\n",
              "          '<a target=\"_blank\" href=https://colab.research.google.com/notebooks/data_table.ipynb>data table notebook</a>'\n",
              "          + ' to learn more about interactive tables.';\n",
              "        element.innerHTML = '';\n",
              "        dataTable['output_type'] = 'display_data';\n",
              "        await google.colab.output.renderOutput(dataTable, element);\n",
              "        const docLink = document.createElement('div');\n",
              "        docLink.innerHTML = docLinkHtml;\n",
              "        element.appendChild(docLink);\n",
              "      }\n",
              "    </script>\n",
              "  </div>\n",
              "\n",
              "\n",
              "    <div id=\"df-7c9cd758-9eda-44c5-9a64-83c13e15f739\">\n",
              "      <button class=\"colab-df-quickchart\" onclick=\"quickchart('df-7c9cd758-9eda-44c5-9a64-83c13e15f739')\"\n",
              "                title=\"Suggest charts\"\n",
              "                style=\"display:none;\">\n",
              "\n",
              "<svg xmlns=\"http://www.w3.org/2000/svg\" height=\"24px\"viewBox=\"0 0 24 24\"\n",
              "     width=\"24px\">\n",
              "    <g>\n",
              "        <path d=\"M19 3H5c-1.1 0-2 .9-2 2v14c0 1.1.9 2 2 2h14c1.1 0 2-.9 2-2V5c0-1.1-.9-2-2-2zM9 17H7v-7h2v7zm4 0h-2V7h2v10zm4 0h-2v-4h2v4z\"/>\n",
              "    </g>\n",
              "</svg>\n",
              "      </button>\n",
              "\n",
              "<style>\n",
              "  .colab-df-quickchart {\n",
              "      --bg-color: #E8F0FE;\n",
              "      --fill-color: #1967D2;\n",
              "      --hover-bg-color: #E2EBFA;\n",
              "      --hover-fill-color: #174EA6;\n",
              "      --disabled-fill-color: #AAA;\n",
              "      --disabled-bg-color: #DDD;\n",
              "  }\n",
              "\n",
              "  [theme=dark] .colab-df-quickchart {\n",
              "      --bg-color: #3B4455;\n",
              "      --fill-color: #D2E3FC;\n",
              "      --hover-bg-color: #434B5C;\n",
              "      --hover-fill-color: #FFFFFF;\n",
              "      --disabled-bg-color: #3B4455;\n",
              "      --disabled-fill-color: #666;\n",
              "  }\n",
              "\n",
              "  .colab-df-quickchart {\n",
              "    background-color: var(--bg-color);\n",
              "    border: none;\n",
              "    border-radius: 50%;\n",
              "    cursor: pointer;\n",
              "    display: none;\n",
              "    fill: var(--fill-color);\n",
              "    height: 32px;\n",
              "    padding: 0;\n",
              "    width: 32px;\n",
              "  }\n",
              "\n",
              "  .colab-df-quickchart:hover {\n",
              "    background-color: var(--hover-bg-color);\n",
              "    box-shadow: 0 1px 2px rgba(60, 64, 67, 0.3), 0 1px 3px 1px rgba(60, 64, 67, 0.15);\n",
              "    fill: var(--button-hover-fill-color);\n",
              "  }\n",
              "\n",
              "  .colab-df-quickchart-complete:disabled,\n",
              "  .colab-df-quickchart-complete:disabled:hover {\n",
              "    background-color: var(--disabled-bg-color);\n",
              "    fill: var(--disabled-fill-color);\n",
              "    box-shadow: none;\n",
              "  }\n",
              "\n",
              "  .colab-df-spinner {\n",
              "    border: 2px solid var(--fill-color);\n",
              "    border-color: transparent;\n",
              "    border-bottom-color: var(--fill-color);\n",
              "    animation:\n",
              "      spin 1s steps(1) infinite;\n",
              "  }\n",
              "\n",
              "  @keyframes spin {\n",
              "    0% {\n",
              "      border-color: transparent;\n",
              "      border-bottom-color: var(--fill-color);\n",
              "      border-left-color: var(--fill-color);\n",
              "    }\n",
              "    20% {\n",
              "      border-color: transparent;\n",
              "      border-left-color: var(--fill-color);\n",
              "      border-top-color: var(--fill-color);\n",
              "    }\n",
              "    30% {\n",
              "      border-color: transparent;\n",
              "      border-left-color: var(--fill-color);\n",
              "      border-top-color: var(--fill-color);\n",
              "      border-right-color: var(--fill-color);\n",
              "    }\n",
              "    40% {\n",
              "      border-color: transparent;\n",
              "      border-right-color: var(--fill-color);\n",
              "      border-top-color: var(--fill-color);\n",
              "    }\n",
              "    60% {\n",
              "      border-color: transparent;\n",
              "      border-right-color: var(--fill-color);\n",
              "    }\n",
              "    80% {\n",
              "      border-color: transparent;\n",
              "      border-right-color: var(--fill-color);\n",
              "      border-bottom-color: var(--fill-color);\n",
              "    }\n",
              "    90% {\n",
              "      border-color: transparent;\n",
              "      border-bottom-color: var(--fill-color);\n",
              "    }\n",
              "  }\n",
              "</style>\n",
              "\n",
              "      <script>\n",
              "        async function quickchart(key) {\n",
              "          const quickchartButtonEl =\n",
              "            document.querySelector('#' + key + ' button');\n",
              "          quickchartButtonEl.disabled = true;  // To prevent multiple clicks.\n",
              "          quickchartButtonEl.classList.add('colab-df-spinner');\n",
              "          try {\n",
              "            const charts = await google.colab.kernel.invokeFunction(\n",
              "                'suggestCharts', [key], {});\n",
              "          } catch (error) {\n",
              "            console.error('Error during call to suggestCharts:', error);\n",
              "          }\n",
              "          quickchartButtonEl.classList.remove('colab-df-spinner');\n",
              "          quickchartButtonEl.classList.add('colab-df-quickchart-complete');\n",
              "        }\n",
              "        (() => {\n",
              "          let quickchartButtonEl =\n",
              "            document.querySelector('#df-7c9cd758-9eda-44c5-9a64-83c13e15f739 button');\n",
              "          quickchartButtonEl.style.display =\n",
              "            google.colab.kernel.accessAllowed ? 'block' : 'none';\n",
              "        })();\n",
              "      </script>\n",
              "    </div>\n",
              "\n",
              "  <div id=\"id_2074f8cc-0331-4240-b10b-c4870428157f\">\n",
              "    <style>\n",
              "      .colab-df-generate {\n",
              "        background-color: #E8F0FE;\n",
              "        border: none;\n",
              "        border-radius: 50%;\n",
              "        cursor: pointer;\n",
              "        display: none;\n",
              "        fill: #1967D2;\n",
              "        height: 32px;\n",
              "        padding: 0 0 0 0;\n",
              "        width: 32px;\n",
              "      }\n",
              "\n",
              "      .colab-df-generate:hover {\n",
              "        background-color: #E2EBFA;\n",
              "        box-shadow: 0px 1px 2px rgba(60, 64, 67, 0.3), 0px 1px 3px 1px rgba(60, 64, 67, 0.15);\n",
              "        fill: #174EA6;\n",
              "      }\n",
              "\n",
              "      [theme=dark] .colab-df-generate {\n",
              "        background-color: #3B4455;\n",
              "        fill: #D2E3FC;\n",
              "      }\n",
              "\n",
              "      [theme=dark] .colab-df-generate:hover {\n",
              "        background-color: #434B5C;\n",
              "        box-shadow: 0px 1px 3px 1px rgba(0, 0, 0, 0.15);\n",
              "        filter: drop-shadow(0px 1px 2px rgba(0, 0, 0, 0.3));\n",
              "        fill: #FFFFFF;\n",
              "      }\n",
              "    </style>\n",
              "    <button class=\"colab-df-generate\" onclick=\"generateWithVariable('data')\"\n",
              "            title=\"Generate code using this dataframe.\"\n",
              "            style=\"display:none;\">\n",
              "\n",
              "  <svg xmlns=\"http://www.w3.org/2000/svg\" height=\"24px\"viewBox=\"0 0 24 24\"\n",
              "       width=\"24px\">\n",
              "    <path d=\"M7,19H8.4L18.45,9,17,7.55,7,17.6ZM5,21V16.75L18.45,3.32a2,2,0,0,1,2.83,0l1.4,1.43a1.91,1.91,0,0,1,.58,1.4,1.91,1.91,0,0,1-.58,1.4L9.25,21ZM18.45,9,17,7.55Zm-12,3A5.31,5.31,0,0,0,4.9,8.1,5.31,5.31,0,0,0,1,6.5,5.31,5.31,0,0,0,4.9,4.9,5.31,5.31,0,0,0,6.5,1,5.31,5.31,0,0,0,8.1,4.9,5.31,5.31,0,0,0,12,6.5,5.46,5.46,0,0,0,6.5,12Z\"/>\n",
              "  </svg>\n",
              "    </button>\n",
              "    <script>\n",
              "      (() => {\n",
              "      const buttonEl =\n",
              "        document.querySelector('#id_2074f8cc-0331-4240-b10b-c4870428157f button.colab-df-generate');\n",
              "      buttonEl.style.display =\n",
              "        google.colab.kernel.accessAllowed ? 'block' : 'none';\n",
              "\n",
              "      buttonEl.onclick = () => {\n",
              "        google.colab.notebook.generateWithVariable('data');\n",
              "      }\n",
              "      })();\n",
              "    </script>\n",
              "  </div>\n",
              "\n",
              "    </div>\n",
              "  </div>\n"
            ],
            "application/vnd.google.colaboratory.intrinsic+json": {
              "type": "dataframe",
              "variable_name": "data",
              "summary": "{\n  \"name\": \"data\",\n  \"rows\": 4,\n  \"fields\": [\n    {\n      \"column\": \"X\",\n      \"properties\": {\n        \"dtype\": \"number\",\n        \"std\": 0.2581988897471611,\n        \"min\": 0.2,\n        \"max\": 0.8,\n        \"num_unique_values\": 4,\n        \"samples\": [\n          0.4,\n          0.8,\n          0.2\n        ],\n        \"semantic_type\": \"\",\n        \"description\": \"\"\n      }\n    },\n    {\n      \"column\": \"Y\",\n      \"properties\": {\n        \"dtype\": \"number\",\n        \"std\": 0.5163977794943222,\n        \"min\": 3.4,\n        \"max\": 4.6,\n        \"num_unique_values\": 4,\n        \"samples\": [\n          3.8,\n          4.6,\n          3.4\n        ],\n        \"semantic_type\": \"\",\n        \"description\": \"\"\n      }\n    }\n  ]\n}"
            }
          },
          "metadata": {},
          "execution_count": 147
        }
      ]
    },
    {
      "cell_type": "code",
      "source": [
        "from sklearn.model_selection import train_test_split\n",
        "X_train,X_test,y_train,y_test=train_test_split(data.X,data.Y,test_size=0.2,random_state=42)"
      ],
      "metadata": {
        "id": "iBhv25KbgiXZ"
      },
      "execution_count": null,
      "outputs": []
    },
    {
      "cell_type": "markdown",
      "source": [
        "![image.png](data:image/png;base64,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)"
      ],
      "metadata": {
        "id": "rjp6zkmWg9dL"
      }
    },
    {
      "cell_type": "code",
      "source": [
        "eta=0.1\n",
        "epochs=1000\n",
        "m=random.uniform(-1,1)\n",
        "c=random.uniform(-1,1)\n",
        "Ns=X_train.shape[0]\n",
        "gama=0.9\n",
        "vm=0\n",
        "vc=0"
      ],
      "metadata": {
        "id": "Eyq6ZiZogzR5"
      },
      "execution_count": null,
      "outputs": []
    },
    {
      "cell_type": "code",
      "source": [
        "for iter in range(epochs):\n",
        "  for sample in range(Ns):\n",
        "    gm=-(y_train.iloc[sample]-m*X_train.iloc[sample]-c)*X_train.iloc[sample]\n",
        "    gc=-(y_train.iloc[sample]-m*X_train.iloc[sample]-c)\n",
        "    vm=gama*vm-eta*gm\n",
        "    vc=gama*vc-eta*gc\n",
        "    m=m+vm\n",
        "    c=c+vc\n",
        "print(\"m=\",round(m))\n",
        "print(\"c=\",round(c))"
      ],
      "metadata": {
        "colab": {
          "base_uri": "https://localhost:8080/"
        },
        "id": "rBTAJv4LhLNZ",
        "outputId": "8994ab31-8ba5-4efe-9f6a-c812f2601d5e"
      },
      "execution_count": null,
      "outputs": [
        {
          "output_type": "stream",
          "name": "stdout",
          "text": [
            "m= 2\n",
            "c= 3\n"
          ]
        }
      ]
    },
    {
      "cell_type": "code",
      "source": [
        "y_train_pred=m*X_train+c\n",
        "mse=((y_train-y_train_pred)**2).mean()\n",
        "print(\"Train_MSE=\",round(mse))"
      ],
      "metadata": {
        "colab": {
          "base_uri": "https://localhost:8080/"
        },
        "id": "ebw3rpXWh3Uw",
        "outputId": "3132a077-efb1-43ee-d83e-60f94c9fc6ba"
      },
      "execution_count": null,
      "outputs": [
        {
          "output_type": "stream",
          "name": "stdout",
          "text": [
            "Train_MSE= 0\n"
          ]
        }
      ]
    },
    {
      "cell_type": "code",
      "source": [
        "y_test_pred=m*X_test+c\n",
        "mse=((y_test-y_test_pred)**2).mean()\n",
        "print(\"Test_MSE=\",round(mse))"
      ],
      "metadata": {
        "colab": {
          "base_uri": "https://localhost:8080/"
        },
        "id": "IyLm-k0iiNbJ",
        "outputId": "30c1b892-9935-4f4e-c4f1-ab6221781f4d"
      },
      "execution_count": null,
      "outputs": [
        {
          "output_type": "stream",
          "name": "stdout",
          "text": [
            "Test_MSE= 0\n"
          ]
        }
      ]
    },
    {
      "cell_type": "code",
      "source": [
        "X=input(\"enter value of X\")\n",
        "X=float(X)\n",
        "m=2\n",
        "c=3\n",
        "Y=m*X+c\n",
        "print(\"Predicted Y = \",Y)"
      ],
      "metadata": {
        "colab": {
          "base_uri": "https://localhost:8080/"
        },
        "id": "5bqbieNWiYzM",
        "outputId": "635df7c7-0f68-48c8-b5e6-e54ba8234055"
      },
      "execution_count": null,
      "outputs": [
        {
          "output_type": "stream",
          "name": "stdout",
          "text": [
            "enter value of X0.6\n",
            "Predicted Y =  4.2\n"
          ]
        }
      ]
    }
  ]
}