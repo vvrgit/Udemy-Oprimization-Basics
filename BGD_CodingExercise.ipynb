{
  "nbformat": 4,
  "nbformat_minor": 0,
  "metadata": {
    "colab": {
      "provenance": [],
      "authorship_tag": "ABX9TyOUU2gElFj0ah1ev13lCwQ6",
      "include_colab_link": true
    },
    "kernelspec": {
      "name": "python3",
      "display_name": "Python 3"
    },
    "language_info": {
      "name": "python"
    }
  },
  "cells": [
    {
      "cell_type": "markdown",
      "metadata": {
        "id": "view-in-github",
        "colab_type": "text"
      },
      "source": [
        "<a href=\"https://colab.research.google.com/github/vvrgit/Udemy-Oprimization-Basics/blob/main/BGD_CodingExercise.ipynb\" target=\"_parent\"><img src=\"https://colab.research.google.com/assets/colab-badge.svg\" alt=\"Open In Colab\"/></a>"
      ]
    },
    {
      "cell_type": "code",
      "execution_count": 1,
      "metadata": {
        "id": "tqOQHKJEu1Zb"
      },
      "outputs": [],
      "source": [
        "import pandas as pd\n",
        "import random\n",
        "#Read Data\n",
        "data = pd.DataFrame({'X': [0.2, 0.4, 0.6, 0.8], 'Y': [3.4, 3.8, 4.2, 4.6]})\n",
        "\n",
        "#Data Split\n",
        "from sklearn.model_selection import train_test_split\n",
        "X_train, X_test, y_train, y_test = train_test_split(data.X, data.Y, test_size=0.2, random_state=42)\n",
        "\n",
        "#Initialization\n",
        "m=random.uniform(-1,1)\n",
        "c=random.uniform(-1,1)\n",
        "eta=0.01\n",
        "epcohs=1000\n",
        "\n",
        "#BGD Algorithm\n",
        "for iter in range(epcohs):\n",
        "  Gm=0\n",
        "  Gc=0\n",
        "  for sample in range(X_train.shape[0]):\n",
        "    gm=-(y_train.iloc[sample]-m*X_train.iloc[sample]-c)*X_train.iloc[sample]\n",
        "    gc=-(y_train.iloc[sample]-m*X_train.iloc[sample]-c)\n",
        "    Gm=Gm+gm\n",
        "    Gc=Gc+gc\n",
        "  Gm=Gm/X_train.shape[0]\n",
        "  Gc=Gc/X_train.shape[0]\n",
        "  delm=-eta*Gm\n",
        "  delc=-eta*Gc\n",
        "  m=m+delm\n",
        "  c=c+delc\n",
        "m=round(m)\n",
        "c=round(c)"
      ]
    },
    {
      "cell_type": "code",
      "source": [
        "print(m)"
      ],
      "metadata": {
        "colab": {
          "base_uri": "https://localhost:8080/"
        },
        "id": "Vt5GFbAT2GMo",
        "outputId": "1fb87c5c-26fc-47d7-9752-628cffcdad2e"
      },
      "execution_count": 2,
      "outputs": [
        {
          "output_type": "stream",
          "name": "stdout",
          "text": [
            "2\n"
          ]
        }
      ]
    },
    {
      "cell_type": "code",
      "source": [],
      "metadata": {
        "id": "ClcLgBSg2HFK"
      },
      "execution_count": null,
      "outputs": []
    }
  ]
}